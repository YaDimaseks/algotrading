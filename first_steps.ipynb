{
 "cells": [
  {
   "cell_type": "code",
   "execution_count": 1,
   "id": "fbf38683",
   "metadata": {},
   "outputs": [],
   "source": [
    "import numpy as np\n",
    "import pandas as pd\n",
    "import matplotlib.pyplot as plt"
   ]
  },
  {
   "cell_type": "code",
   "execution_count": 56,
   "id": "b7aee2fd",
   "metadata": {},
   "outputs": [],
   "source": [
    "#импорт данных\n",
    "data = pd.read_csv('C:/Users/kadyg/projects/finance/datas.csv')\n",
    "keep_col = ['Date','Price']\n",
    "data = data[keep_col]"
   ]
  },
  {
   "cell_type": "code",
   "execution_count": 57,
   "id": "8d347d02",
   "metadata": {
    "scrolled": false
   },
   "outputs": [
    {
     "data": {
      "text/html": [
       "<div>\n",
       "<style scoped>\n",
       "    .dataframe tbody tr th:only-of-type {\n",
       "        vertical-align: middle;\n",
       "    }\n",
       "\n",
       "    .dataframe tbody tr th {\n",
       "        vertical-align: top;\n",
       "    }\n",
       "\n",
       "    .dataframe thead th {\n",
       "        text-align: right;\n",
       "    }\n",
       "</style>\n",
       "<table border=\"1\" class=\"dataframe\">\n",
       "  <thead>\n",
       "    <tr style=\"text-align: right;\">\n",
       "      <th></th>\n",
       "      <th>Date</th>\n",
       "      <th>Price</th>\n",
       "    </tr>\n",
       "  </thead>\n",
       "  <tbody>\n",
       "    <tr>\n",
       "      <th>0</th>\n",
       "      <td>01/01/17</td>\n",
       "      <td>992.95</td>\n",
       "    </tr>\n",
       "    <tr>\n",
       "      <th>1</th>\n",
       "      <td>02/01/17</td>\n",
       "      <td>1011.45</td>\n",
       "    </tr>\n",
       "    <tr>\n",
       "      <th>2</th>\n",
       "      <td>03/01/17</td>\n",
       "      <td>1020.67</td>\n",
       "    </tr>\n",
       "    <tr>\n",
       "      <th>3</th>\n",
       "      <td>04/01/17</td>\n",
       "      <td>1130.30</td>\n",
       "    </tr>\n",
       "    <tr>\n",
       "      <th>4</th>\n",
       "      <td>05/01/17</td>\n",
       "      <td>1007.00</td>\n",
       "    </tr>\n",
       "    <tr>\n",
       "      <th>...</th>\n",
       "      <td>...</td>\n",
       "      <td>...</td>\n",
       "    </tr>\n",
       "    <tr>\n",
       "      <th>1893</th>\n",
       "      <td>13/03/22</td>\n",
       "      <td>37793.01</td>\n",
       "    </tr>\n",
       "    <tr>\n",
       "      <th>1894</th>\n",
       "      <td>14/03/22</td>\n",
       "      <td>39674.17</td>\n",
       "    </tr>\n",
       "    <tr>\n",
       "      <th>1895</th>\n",
       "      <td>15/03/22</td>\n",
       "      <td>39298.10</td>\n",
       "    </tr>\n",
       "    <tr>\n",
       "      <th>1896</th>\n",
       "      <td>16/03/22</td>\n",
       "      <td>41127.97</td>\n",
       "    </tr>\n",
       "    <tr>\n",
       "      <th>1897</th>\n",
       "      <td>17/03/22</td>\n",
       "      <td>40744.88</td>\n",
       "    </tr>\n",
       "  </tbody>\n",
       "</table>\n",
       "<p>1898 rows × 2 columns</p>\n",
       "</div>"
      ],
      "text/plain": [
       "          Date     Price\n",
       "0     01/01/17    992.95\n",
       "1     02/01/17   1011.45\n",
       "2     03/01/17   1020.67\n",
       "3     04/01/17   1130.30\n",
       "4     05/01/17   1007.00\n",
       "...        ...       ...\n",
       "1893  13/03/22  37793.01\n",
       "1894  14/03/22  39674.17\n",
       "1895  15/03/22  39298.10\n",
       "1896  16/03/22  41127.97\n",
       "1897  17/03/22  40744.88\n",
       "\n",
       "[1898 rows x 2 columns]"
      ]
     },
     "execution_count": 57,
     "metadata": {},
     "output_type": "execute_result"
    }
   ],
   "source": [
    "data"
   ]
  },
  {
   "cell_type": "code",
   "execution_count": 60,
   "id": "e2b0171c",
   "metadata": {},
   "outputs": [
    {
     "data": {
      "text/plain": [
       "Index(['Date', 'Price'], dtype='object')"
      ]
     },
     "execution_count": 60,
     "metadata": {},
     "output_type": "execute_result"
    }
   ],
   "source": [
    "data.columns\n"
   ]
  },
  {
   "cell_type": "code",
   "execution_count": 61,
   "id": "590354a8",
   "metadata": {},
   "outputs": [],
   "source": [
    "#рассчет доходностей\n",
    "data['r'] = data['Price'][1:].reset_index(drop=True)/data['Price'][:-1].reset_index(drop=True) - 1"
   ]
  },
  {
   "cell_type": "code",
   "execution_count": 62,
   "id": "e0a95cd5",
   "metadata": {},
   "outputs": [
    {
     "data": {
      "text/html": [
       "<div>\n",
       "<style scoped>\n",
       "    .dataframe tbody tr th:only-of-type {\n",
       "        vertical-align: middle;\n",
       "    }\n",
       "\n",
       "    .dataframe tbody tr th {\n",
       "        vertical-align: top;\n",
       "    }\n",
       "\n",
       "    .dataframe thead th {\n",
       "        text-align: right;\n",
       "    }\n",
       "</style>\n",
       "<table border=\"1\" class=\"dataframe\">\n",
       "  <thead>\n",
       "    <tr style=\"text-align: right;\">\n",
       "      <th></th>\n",
       "      <th>Date</th>\n",
       "      <th>Price</th>\n",
       "      <th>r</th>\n",
       "    </tr>\n",
       "  </thead>\n",
       "  <tbody>\n",
       "    <tr>\n",
       "      <th>0</th>\n",
       "      <td>01/01/17</td>\n",
       "      <td>992.95</td>\n",
       "      <td>0.018631</td>\n",
       "    </tr>\n",
       "    <tr>\n",
       "      <th>1</th>\n",
       "      <td>02/01/17</td>\n",
       "      <td>1011.45</td>\n",
       "      <td>0.009116</td>\n",
       "    </tr>\n",
       "    <tr>\n",
       "      <th>2</th>\n",
       "      <td>03/01/17</td>\n",
       "      <td>1020.67</td>\n",
       "      <td>0.107410</td>\n",
       "    </tr>\n",
       "    <tr>\n",
       "      <th>3</th>\n",
       "      <td>04/01/17</td>\n",
       "      <td>1130.30</td>\n",
       "      <td>-0.109086</td>\n",
       "    </tr>\n",
       "    <tr>\n",
       "      <th>4</th>\n",
       "      <td>05/01/17</td>\n",
       "      <td>1007.00</td>\n",
       "      <td>-0.110516</td>\n",
       "    </tr>\n",
       "    <tr>\n",
       "      <th>...</th>\n",
       "      <td>...</td>\n",
       "      <td>...</td>\n",
       "      <td>...</td>\n",
       "    </tr>\n",
       "    <tr>\n",
       "      <th>1893</th>\n",
       "      <td>13/03/22</td>\n",
       "      <td>37793.01</td>\n",
       "      <td>0.049775</td>\n",
       "    </tr>\n",
       "    <tr>\n",
       "      <th>1894</th>\n",
       "      <td>14/03/22</td>\n",
       "      <td>39674.17</td>\n",
       "      <td>-0.009479</td>\n",
       "    </tr>\n",
       "    <tr>\n",
       "      <th>1895</th>\n",
       "      <td>15/03/22</td>\n",
       "      <td>39298.10</td>\n",
       "      <td>0.046564</td>\n",
       "    </tr>\n",
       "    <tr>\n",
       "      <th>1896</th>\n",
       "      <td>16/03/22</td>\n",
       "      <td>41127.97</td>\n",
       "      <td>-0.009315</td>\n",
       "    </tr>\n",
       "    <tr>\n",
       "      <th>1897</th>\n",
       "      <td>17/03/22</td>\n",
       "      <td>40744.88</td>\n",
       "      <td>NaN</td>\n",
       "    </tr>\n",
       "  </tbody>\n",
       "</table>\n",
       "<p>1898 rows × 3 columns</p>\n",
       "</div>"
      ],
      "text/plain": [
       "          Date     Price         r\n",
       "0     01/01/17    992.95  0.018631\n",
       "1     02/01/17   1011.45  0.009116\n",
       "2     03/01/17   1020.67  0.107410\n",
       "3     04/01/17   1130.30 -0.109086\n",
       "4     05/01/17   1007.00 -0.110516\n",
       "...        ...       ...       ...\n",
       "1893  13/03/22  37793.01  0.049775\n",
       "1894  14/03/22  39674.17 -0.009479\n",
       "1895  15/03/22  39298.10  0.046564\n",
       "1896  16/03/22  41127.97 -0.009315\n",
       "1897  17/03/22  40744.88       NaN\n",
       "\n",
       "[1898 rows x 3 columns]"
      ]
     },
     "execution_count": 62,
     "metadata": {},
     "output_type": "execute_result"
    }
   ],
   "source": [
    "data\n"
   ]
  },
  {
   "cell_type": "code",
   "execution_count": 63,
   "id": "12fd316c",
   "metadata": {},
   "outputs": [],
   "source": [
    "#рассчет скользящих средник \n",
    "short = 5\n",
    "long = 12\n",
    "data['SMA'] = data['Price'].rolling(short).mean()\n",
    "data['LMA'] = data['Price'].rolling(long).mean()"
   ]
  },
  {
   "cell_type": "code",
   "execution_count": 65,
   "id": "50dc1858",
   "metadata": {},
   "outputs": [],
   "source": [
    "#Избавляемся от ненужных строк\n",
    "data = data.drop(len(data)-1)\n",
    "data = data.drop(data.index[0:long-1])"
   ]
  },
  {
   "cell_type": "code",
   "execution_count": 67,
   "id": "109dce6a",
   "metadata": {},
   "outputs": [],
   "source": [
    "#рассчитываем доходность стратегии\n",
    "data['strategy'] = data['r']*(data['SMA']>data['LMA']) - data['r']*(data['SMA']<data['LMA'])"
   ]
  },
  {
   "cell_type": "code",
   "execution_count": 69,
   "id": "d74f4676",
   "metadata": {},
   "outputs": [
    {
     "name": "stdout",
     "output_type": "stream",
     "text": [
      "Годовая доходность стратегии скользящих средних 8.81%\n",
      "Годовая доходность стратегии buy and hold 70.14%\n"
     ]
    },
    {
     "data": {
      "image/png": "[encoded data removed]",
      "text/plain": [
       "<Figure size 432x288 with 1 Axes>"
      ]
     },
     "metadata": {
      "needs_background": "light"
     },
     "output_type": "display_data"
    }
   ],
   "source": [
    "#визуализируем результаты\n",
    "plt.plot(np.cumprod(1+data['strategy']))\n",
    "plt.plot(np.cumprod(1+data['r']))\n",
    "r_strat = np.prod(1+data['strategy'])**(256/len(data['strategy'])) - 1\n",
    "r_bnh = np.prod(1+data['r'])**(256/len(data['r'])) - 1\n",
    "print('Годовая доходность стратегии скользящих средних '+str(round(r_strat*100,2))+'%')\n",
    "print('Годовая доходность стратегии buy and hold '+str(round(r_bnh*100,2))+'%')"
   ]
  },
  {
   "cell_type": "code",
   "execution_count": null,
   "id": "7b1d1791",
   "metadata": {},
   "outputs": [],
   "source": []
  }
 ],
 "metadata": {
  "kernelspec": {
   "display_name": "Python 3 (ipykernel)",
   "language": "python",
   "name": "python3"
  },
  "language_info": {
   "codemirror_mode": {
    "name": "ipython",
    "version": 3
   },
   "file_extension": ".py",
   "mimetype": "text/x-python",
   "name": "python",
   "nbconvert_exporter": "python",
   "pygments_lexer": "ipython3",
   "version": "3.10.0"
  }
 },
 "nbformat": 4,
 "nbformat_minor": 5
}
