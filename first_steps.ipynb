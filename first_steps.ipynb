{
 "cell_type": "code",
 "execution_count": 2,
 "id": "RbikXjWwbC3q",
 "metadata": {
  "colab": {
   "base_uri": "https://localhost:8080/"
  },
  "id": "RbikXjWwbC3q",
  "outputId": "ff8a4a52-13a5-445b-fb3d-fa7411c65c08"
 },
 "outputs": [
  {
   "output_type": "stream",
   "name": "stdout",
   "text": [
    "Collecting wget\n",
    "  Downloading wget-3.2.zip (10 kB)\n",
    "Building wheels for collected packages: wget\n",
    "  Building wheel for wget (setup.py) ... \u001B[?25l\u001B[?25hdone\n",
    "  Created wheel for wget: filename=wget-3.2-py3-none-any.whl size=9675 sha256=9382d06ba24121ce4ccf3c31644b7701ecdcdc513cfbcf6ffb16adbfeb485ccb\n",
    "  Stored in directory: /root/.cache/pip/wheels/a1/b6/7c/0e63e34eb06634181c63adacca38b79ff8f35c37e3c13e3c02\n",
    "Successfully built wget\n",
    "Installing collected packages: wget\n",
    "Successfully installed wget-3.2\n"
   ]
  }
 ],
 "source": [
  "# uncomment if you're don't have wget\n",
  "!pip install wget\n"
 ]
}