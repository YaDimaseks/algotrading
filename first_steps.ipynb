{
  "cells": [
    {
      "cell_type": "code",
      "execution_count": null,
      "id": "RbikXjWwbC3q",
      "metadata": {
        "colab": {
          "base_uri": "https://localhost:8080/"
        },
        "id": "RbikXjWwbC3q",
        "outputId": "bca2a722-5eca-4642-b17c-61a42da02743"
      },
      "outputs": [
        {
          "output_type": "stream",
          "name": "stdout",
          "text": [
            "Collecting wget\n",
            "  Downloading wget-3.2.zip (10 kB)\n",
            "Building wheels for collected packages: wget\n",
            "  Building wheel for wget (setup.py) ... \u001b[?25l\u001b[?25hdone\n",
            "  Created wheel for wget: filename=wget-3.2-py3-none-any.whl size=9675 sha256=418ef4749d8971ca9327ae20d5d67427f309cde59bc64068d4ff228fd50cd723\n",
            "  Stored in directory: /root/.cache/pip/wheels/a1/b6/7c/0e63e34eb06634181c63adacca38b79ff8f35c37e3c13e3c02\n",
            "Successfully built wget\n",
            "Installing collected packages: wget\n",
            "Successfully installed wget-3.2\n"
          ]
        }
      ],
      "source": [
        "# uncomment if you're don't have wget\n",
        "!pip install wget\n"
      ]
    },
    {
      "cell_type": "code",
      "execution_count": null,
      "id": "fbf38683",
      "metadata": {
        "id": "fbf38683"
      },
      "outputs": [],
      "source": [
        "import numpy as np\n",
        "import pandas as pd\n",
        "import matplotlib.pyplot as plt\n",
        "import wget\n",
        "import torch\n",
        "import os\n",
        "%matplotlib inline"
      ]
    },
    {
      "cell_type": "code",
      "execution_count": null,
      "id": "9754b56d",
      "metadata": {
        "id": "9754b56d"
      },
      "outputs": [],
      "source": [
        "#константы\n",
        "LINK = 'https://api.blockchain.info/charts/market-price?format=csv'\n",
        "LINK2 = ''\n",
        "percentage = 100"
      ]
    },
    {
      "cell_type": "code",
      "execution_count": null,
      "id": "b7aee2fd",
      "metadata": {
        "id": "b7aee2fd"
      },
      "outputs": [],
      "source": [
        "#импорт данных\n",
        "if not os.path.exists('market-price.csv'):\n",
        "    wget.download(LINK, \"market-price.csv\")\n",
        "data = pd.read_csv('market-price.csv')\n",
        "data = data.rename(columns={data.columns[0]: \"Date\", data.columns[1]: \"Price\"})[:int(len(data.values)*percentage/100)]\n",
        "prices = torch.Tensor(data['Price'].values)"
      ]
    },
    {
      "cell_type": "code",
      "execution_count": null,
      "id": "590354a8",
      "metadata": {
        "id": "590354a8"
      },
      "outputs": [],
      "source": [
        "#рассчет доходностей\n",
        "data['r'] = data['Price'][1:].reset_index(drop=True)/data['Price'][:-1].reset_index(drop=True) - 1\n",
        "r = prices[1:]/prices[:-1] - 1"
      ]
    },
    {
      "cell_type": "code",
      "execution_count": null,
      "id": "e0a95cd5",
      "metadata": {
        "colab": {
          "base_uri": "https://localhost:8080/",
          "height": 423
        },
        "id": "e0a95cd5",
        "outputId": "a72f51b3-26cb-491a-bc18-bf675c55b6b5"
      },
      "outputs": [
        {
          "output_type": "execute_result",
          "data": {
            "text/plain": [
              "                    Date     Price         r\n",
              "0    2021-04-19 00:00:00  56251.48 -0.009748\n",
              "1    2021-04-20 00:00:00  55703.14  0.014447\n",
              "2    2021-04-21 00:00:00  56507.91 -0.047765\n",
              "3    2021-04-22 00:00:00  53808.80 -0.038601\n",
              "4    2021-04-23 00:00:00  51731.71 -0.011184\n",
              "..                   ...       ...       ...\n",
              "360  2022-04-14 00:00:00  41148.06 -0.029361\n",
              "361  2022-04-15 00:00:00  39939.90  0.015681\n",
              "362  2022-04-16 00:00:00  40566.20 -0.004374\n",
              "363  2022-04-17 00:00:00  40388.78 -0.016770\n",
              "364  2022-04-18 00:00:00  39711.45       NaN\n",
              "\n",
              "[365 rows x 3 columns]"
            ],
            "text/html": [
              "\n",
              "  <div id=\"df-41aedccf-978f-4cd0-83ba-35ab3dc5577b\">\n",
              "    <div class=\"colab-df-container\">\n",
              "      <div>\n",
              "<style scoped>\n",
              "    .dataframe tbody tr th:only-of-type {\n",
              "        vertical-align: middle;\n",
              "    }\n",
              "\n",
              "    .dataframe tbody tr th {\n",
              "        vertical-align: top;\n",
              "    }\n",
              "\n",
              "    .dataframe thead th {\n",
              "        text-align: right;\n",
              "    }\n",
              "</style>\n",
              "<table border=\"1\" class=\"dataframe\">\n",
              "  <thead>\n",
              "    <tr style=\"text-align: right;\">\n",
              "      <th></th>\n",
              "      <th>Date</th>\n",
              "      <th>Price</th>\n",
              "      <th>r</th>\n",
              "    </tr>\n",
              "  </thead>\n",
              "  <tbody>\n",
              "    <tr>\n",
              "      <th>0</th>\n",
              "      <td>2021-04-19 00:00:00</td>\n",
              "      <td>56251.48</td>\n",
              "      <td>-0.009748</td>\n",
              "    </tr>\n",
              "    <tr>\n",
              "      <th>1</th>\n",
              "      <td>2021-04-20 00:00:00</td>\n",
              "      <td>55703.14</td>\n",
              "      <td>0.014447</td>\n",
              "    </tr>\n",
              "    <tr>\n",
              "      <th>2</th>\n",
              "      <td>2021-04-21 00:00:00</td>\n",
              "      <td>56507.91</td>\n",
              "      <td>-0.047765</td>\n",
              "    </tr>\n",
              "    <tr>\n",
              "      <th>3</th>\n",
              "      <td>2021-04-22 00:00:00</td>\n",
              "      <td>53808.80</td>\n",
              "      <td>-0.038601</td>\n",
              "    </tr>\n",
              "    <tr>\n",
              "      <th>4</th>\n",
              "      <td>2021-04-23 00:00:00</td>\n",
              "      <td>51731.71</td>\n",
              "      <td>-0.011184</td>\n",
              "    </tr>\n",
              "    <tr>\n",
              "      <th>...</th>\n",
              "      <td>...</td>\n",
              "      <td>...</td>\n",
              "      <td>...</td>\n",
              "    </tr>\n",
              "    <tr>\n",
              "      <th>360</th>\n",
              "      <td>2022-04-14 00:00:00</td>\n",
              "      <td>41148.06</td>\n",
              "      <td>-0.029361</td>\n",
              "    </tr>\n",
              "    <tr>\n",
              "      <th>361</th>\n",
              "      <td>2022-04-15 00:00:00</td>\n",
              "      <td>39939.90</td>\n",
              "      <td>0.015681</td>\n",
              "    </tr>\n",
              "    <tr>\n",
              "      <th>362</th>\n",
              "      <td>2022-04-16 00:00:00</td>\n",
              "      <td>40566.20</td>\n",
              "      <td>-0.004374</td>\n",
              "    </tr>\n",
              "    <tr>\n",
              "      <th>363</th>\n",
              "      <td>2022-04-17 00:00:00</td>\n",
              "      <td>40388.78</td>\n",
              "      <td>-0.016770</td>\n",
              "    </tr>\n",
              "    <tr>\n",
              "      <th>364</th>\n",
              "      <td>2022-04-18 00:00:00</td>\n",
              "      <td>39711.45</td>\n",
              "      <td>NaN</td>\n",
              "    </tr>\n",
              "  </tbody>\n",
              "</table>\n",
              "<p>365 rows × 3 columns</p>\n",
              "</div>\n",
              "      <button class=\"colab-df-convert\" onclick=\"convertToInteractive('df-41aedccf-978f-4cd0-83ba-35ab3dc5577b')\"\n",
              "              title=\"Convert this dataframe to an interactive table.\"\n",
              "              style=\"display:none;\">\n",
              "        \n",
              "  <svg xmlns=\"http://www.w3.org/2000/svg\" height=\"24px\"viewBox=\"0 0 24 24\"\n",
              "       width=\"24px\">\n",
              "    <path d=\"M0 0h24v24H0V0z\" fill=\"none\"/>\n",
              "    <path d=\"M18.56 5.44l.94 2.06.94-2.06 2.06-.94-2.06-.94-.94-2.06-.94 2.06-2.06.94zm-11 1L8.5 8.5l.94-2.06 2.06-.94-2.06-.94L8.5 2.5l-.94 2.06-2.06.94zm10 10l.94 2.06.94-2.06 2.06-.94-2.06-.94-.94-2.06-.94 2.06-2.06.94z\"/><path d=\"M17.41 7.96l-1.37-1.37c-.4-.4-.92-.59-1.43-.59-.52 0-1.04.2-1.43.59L10.3 9.45l-7.72 7.72c-.78.78-.78 2.05 0 2.83L4 21.41c.39.39.9.59 1.41.59.51 0 1.02-.2 1.41-.59l7.78-7.78 2.81-2.81c.8-.78.8-2.07 0-2.86zM5.41 20L4 18.59l7.72-7.72 1.47 1.35L5.41 20z\"/>\n",
              "  </svg>\n",
              "      </button>\n",
              "      \n",
              "  <style>\n",
              "    .colab-df-container {\n",
              "      display:flex;\n",
              "      flex-wrap:wrap;\n",
              "      gap: 12px;\n",
              "    }\n",
              "\n",
              "    .colab-df-convert {\n",
              "      background-color: #E8F0FE;\n",
              "      border: none;\n",
              "      border-radius: 50%;\n",
              "      cursor: pointer;\n",
              "      display: none;\n",
              "      fill: #1967D2;\n",
              "      height: 32px;\n",
              "      padding: 0 0 0 0;\n",
              "      width: 32px;\n",
              "    }\n",
              "\n",
              "    .colab-df-convert:hover {\n",
              "      background-color: #E2EBFA;\n",
              "      box-shadow: 0px 1px 2px rgba(60, 64, 67, 0.3), 0px 1px 3px 1px rgba(60, 64, 67, 0.15);\n",
              "      fill: #174EA6;\n",
              "    }\n",
              "\n",
              "    [theme=dark] .colab-df-convert {\n",
              "      background-color: #3B4455;\n",
              "      fill: #D2E3FC;\n",
              "    }\n",
              "\n",
              "    [theme=dark] .colab-df-convert:hover {\n",
              "      background-color: #434B5C;\n",
              "      box-shadow: 0px 1px 3px 1px rgba(0, 0, 0, 0.15);\n",
              "      filter: drop-shadow(0px 1px 2px rgba(0, 0, 0, 0.3));\n",
              "      fill: #FFFFFF;\n",
              "    }\n",
              "  </style>\n",
              "\n",
              "      <script>\n",
              "        const buttonEl =\n",
              "          document.querySelector('#df-41aedccf-978f-4cd0-83ba-35ab3dc5577b button.colab-df-convert');\n",
              "        buttonEl.style.display =\n",
              "          google.colab.kernel.accessAllowed ? 'block' : 'none';\n",
              "\n",
              "        async function convertToInteractive(key) {\n",
              "          const element = document.querySelector('#df-41aedccf-978f-4cd0-83ba-35ab3dc5577b');\n",
              "          const dataTable =\n",
              "            await google.colab.kernel.invokeFunction('convertToInteractive',\n",
              "                                                     [key], {});\n",
              "          if (!dataTable) return;\n",
              "\n",
              "          const docLinkHtml = 'Like what you see? Visit the ' +\n",
              "            '<a target=\"_blank\" href=https://colab.research.google.com/notebooks/data_table.ipynb>data table notebook</a>'\n",
              "            + ' to learn more about interactive tables.';\n",
              "          element.innerHTML = '';\n",
              "          dataTable['output_type'] = 'display_data';\n",
              "          await google.colab.output.renderOutput(dataTable, element);\n",
              "          const docLink = document.createElement('div');\n",
              "          docLink.innerHTML = docLinkHtml;\n",
              "          element.appendChild(docLink);\n",
              "        }\n",
              "      </script>\n",
              "    </div>\n",
              "  </div>\n",
              "  "
            ]
          },
          "metadata": {},
          "execution_count": 6
        }
      ],
      "source": [
        "data"
      ]
    },
    {
      "cell_type": "code",
      "execution_count": null,
      "id": "12fd316c",
      "metadata": {
        "id": "12fd316c"
      },
      "outputs": [],
      "source": [
        "#рассчет скользящих средник \n",
        "short = 5\n",
        "long = 12\n",
        "data['SMA'] = data['Price'].rolling(short).mean()\n",
        "data['LMA'] = data['Price'].rolling(long).mean()"
      ]
    },
    {
      "cell_type": "code",
      "execution_count": null,
      "id": "UbU9TIy8djZT",
      "metadata": {
        "colab": {
          "base_uri": "https://localhost:8080/",
          "height": 423
        },
        "id": "UbU9TIy8djZT",
        "outputId": "96d5b7fd-6746-46ad-e5c7-711806964455"
      },
      "outputs": [
        {
          "output_type": "execute_result",
          "data": {
            "text/plain": [
              "                    Date     Price         r        SMA           LMA\n",
              "0    2021-04-19 00:00:00  56251.48 -0.009748        NaN           NaN\n",
              "1    2021-04-20 00:00:00  55703.14  0.014447        NaN           NaN\n",
              "2    2021-04-21 00:00:00  56507.91 -0.047765        NaN           NaN\n",
              "3    2021-04-22 00:00:00  53808.80 -0.038601        NaN           NaN\n",
              "4    2021-04-23 00:00:00  51731.71 -0.011184  54800.608           NaN\n",
              "..                   ...       ...       ...        ...           ...\n",
              "360  2022-04-14 00:00:00  41148.06 -0.029361  41134.160  43247.878333\n",
              "361  2022-04-15 00:00:00  39939.90  0.015681  40564.602  42757.423333\n",
              "362  2022-04-16 00:00:00  40566.20 -0.004374  40248.996  42269.146667\n",
              "363  2022-04-17 00:00:00  40388.78 -0.016770  40429.028  41750.606667\n",
              "364  2022-04-18 00:00:00  39711.45       NaN  40350.878  41267.547500\n",
              "\n",
              "[365 rows x 5 columns]"
            ],
            "text/html": [
              "\n",
              "  <div id=\"df-f6c875e9-0dbf-484f-ae5a-c53bc5573652\">\n",
              "    <div class=\"colab-df-container\">\n",
              "      <div>\n",
              "<style scoped>\n",
              "    .dataframe tbody tr th:only-of-type {\n",
              "        vertical-align: middle;\n",
              "    }\n",
              "\n",
              "    .dataframe tbody tr th {\n",
              "        vertical-align: top;\n",
              "    }\n",
              "\n",
              "    .dataframe thead th {\n",
              "        text-align: right;\n",
              "    }\n",
              "</style>\n",
              "<table border=\"1\" class=\"dataframe\">\n",
              "  <thead>\n",
              "    <tr style=\"text-align: right;\">\n",
              "      <th></th>\n",
              "      <th>Date</th>\n",
              "      <th>Price</th>\n",
              "      <th>r</th>\n",
              "      <th>SMA</th>\n",
              "      <th>LMA</th>\n",
              "    </tr>\n",
              "  </thead>\n",
              "  <tbody>\n",
              "    <tr>\n",
              "      <th>0</th>\n",
              "      <td>2021-04-19 00:00:00</td>\n",
              "      <td>56251.48</td>\n",
              "      <td>-0.009748</td>\n",
              "      <td>NaN</td>\n",
              "      <td>NaN</td>\n",
              "    </tr>\n",
              "    <tr>\n",
              "      <th>1</th>\n",
              "      <td>2021-04-20 00:00:00</td>\n",
              "      <td>55703.14</td>\n",
              "      <td>0.014447</td>\n",
              "      <td>NaN</td>\n",
              "      <td>NaN</td>\n",
              "    </tr>\n",
              "    <tr>\n",
              "      <th>2</th>\n",
              "      <td>2021-04-21 00:00:00</td>\n",
              "      <td>56507.91</td>\n",
              "      <td>-0.047765</td>\n",
              "      <td>NaN</td>\n",
              "      <td>NaN</td>\n",
              "    </tr>\n",
              "    <tr>\n",
              "      <th>3</th>\n",
              "      <td>2021-04-22 00:00:00</td>\n",
              "      <td>53808.80</td>\n",
              "      <td>-0.038601</td>\n",
              "      <td>NaN</td>\n",
              "      <td>NaN</td>\n",
              "    </tr>\n",
              "    <tr>\n",
              "      <th>4</th>\n",
              "      <td>2021-04-23 00:00:00</td>\n",
              "      <td>51731.71</td>\n",
              "      <td>-0.011184</td>\n",
              "      <td>54800.608</td>\n",
              "      <td>NaN</td>\n",
              "    </tr>\n",
              "    <tr>\n",
              "      <th>...</th>\n",
              "      <td>...</td>\n",
              "      <td>...</td>\n",
              "      <td>...</td>\n",
              "      <td>...</td>\n",
              "      <td>...</td>\n",
              "    </tr>\n",
              "    <tr>\n",
              "      <th>360</th>\n",
              "      <td>2022-04-14 00:00:00</td>\n",
              "      <td>41148.06</td>\n",
              "      <td>-0.029361</td>\n",
              "      <td>41134.160</td>\n",
              "      <td>43247.878333</td>\n",
              "    </tr>\n",
              "    <tr>\n",
              "      <th>361</th>\n",
              "      <td>2022-04-15 00:00:00</td>\n",
              "      <td>39939.90</td>\n",
              "      <td>0.015681</td>\n",
              "      <td>40564.602</td>\n",
              "      <td>42757.423333</td>\n",
              "    </tr>\n",
              "    <tr>\n",
              "      <th>362</th>\n",
              "      <td>2022-04-16 00:00:00</td>\n",
              "      <td>40566.20</td>\n",
              "      <td>-0.004374</td>\n",
              "      <td>40248.996</td>\n",
              "      <td>42269.146667</td>\n",
              "    </tr>\n",
              "    <tr>\n",
              "      <th>363</th>\n",
              "      <td>2022-04-17 00:00:00</td>\n",
              "      <td>40388.78</td>\n",
              "      <td>-0.016770</td>\n",
              "      <td>40429.028</td>\n",
              "      <td>41750.606667</td>\n",
              "    </tr>\n",
              "    <tr>\n",
              "      <th>364</th>\n",
              "      <td>2022-04-18 00:00:00</td>\n",
              "      <td>39711.45</td>\n",
              "      <td>NaN</td>\n",
              "      <td>40350.878</td>\n",
              "      <td>41267.547500</td>\n",
              "    </tr>\n",
              "  </tbody>\n",
              "</table>\n",
              "<p>365 rows × 5 columns</p>\n",
              "</div>\n",
              "      <button class=\"colab-df-convert\" onclick=\"convertToInteractive('df-f6c875e9-0dbf-484f-ae5a-c53bc5573652')\"\n",
              "              title=\"Convert this dataframe to an interactive table.\"\n",
              "              style=\"display:none;\">\n",
              "        \n",
              "  <svg xmlns=\"http://www.w3.org/2000/svg\" height=\"24px\"viewBox=\"0 0 24 24\"\n",
              "       width=\"24px\">\n",
              "    <path d=\"M0 0h24v24H0V0z\" fill=\"none\"/>\n",
              "    <path d=\"M18.56 5.44l.94 2.06.94-2.06 2.06-.94-2.06-.94-.94-2.06-.94 2.06-2.06.94zm-11 1L8.5 8.5l.94-2.06 2.06-.94-2.06-.94L8.5 2.5l-.94 2.06-2.06.94zm10 10l.94 2.06.94-2.06 2.06-.94-2.06-.94-.94-2.06-.94 2.06-2.06.94z\"/><path d=\"M17.41 7.96l-1.37-1.37c-.4-.4-.92-.59-1.43-.59-.52 0-1.04.2-1.43.59L10.3 9.45l-7.72 7.72c-.78.78-.78 2.05 0 2.83L4 21.41c.39.39.9.59 1.41.59.51 0 1.02-.2 1.41-.59l7.78-7.78 2.81-2.81c.8-.78.8-2.07 0-2.86zM5.41 20L4 18.59l7.72-7.72 1.47 1.35L5.41 20z\"/>\n",
              "  </svg>\n",
              "      </button>\n",
              "      \n",
              "  <style>\n",
              "    .colab-df-container {\n",
              "      display:flex;\n",
              "      flex-wrap:wrap;\n",
              "      gap: 12px;\n",
              "    }\n",
              "\n",
              "    .colab-df-convert {\n",
              "      background-color: #E8F0FE;\n",
              "      border: none;\n",
              "      border-radius: 50%;\n",
              "      cursor: pointer;\n",
              "      display: none;\n",
              "      fill: #1967D2;\n",
              "      height: 32px;\n",
              "      padding: 0 0 0 0;\n",
              "      width: 32px;\n",
              "    }\n",
              "\n",
              "    .colab-df-convert:hover {\n",
              "      background-color: #E2EBFA;\n",
              "      box-shadow: 0px 1px 2px rgba(60, 64, 67, 0.3), 0px 1px 3px 1px rgba(60, 64, 67, 0.15);\n",
              "      fill: #174EA6;\n",
              "    }\n",
              "\n",
              "    [theme=dark] .colab-df-convert {\n",
              "      background-color: #3B4455;\n",
              "      fill: #D2E3FC;\n",
              "    }\n",
              "\n",
              "    [theme=dark] .colab-df-convert:hover {\n",
              "      background-color: #434B5C;\n",
              "      box-shadow: 0px 1px 3px 1px rgba(0, 0, 0, 0.15);\n",
              "      filter: drop-shadow(0px 1px 2px rgba(0, 0, 0, 0.3));\n",
              "      fill: #FFFFFF;\n",
              "    }\n",
              "  </style>\n",
              "\n",
              "      <script>\n",
              "        const buttonEl =\n",
              "          document.querySelector('#df-f6c875e9-0dbf-484f-ae5a-c53bc5573652 button.colab-df-convert');\n",
              "        buttonEl.style.display =\n",
              "          google.colab.kernel.accessAllowed ? 'block' : 'none';\n",
              "\n",
              "        async function convertToInteractive(key) {\n",
              "          const element = document.querySelector('#df-f6c875e9-0dbf-484f-ae5a-c53bc5573652');\n",
              "          const dataTable =\n",
              "            await google.colab.kernel.invokeFunction('convertToInteractive',\n",
              "                                                     [key], {});\n",
              "          if (!dataTable) return;\n",
              "\n",
              "          const docLinkHtml = 'Like what you see? Visit the ' +\n",
              "            '<a target=\"_blank\" href=https://colab.research.google.com/notebooks/data_table.ipynb>data table notebook</a>'\n",
              "            + ' to learn more about interactive tables.';\n",
              "          element.innerHTML = '';\n",
              "          dataTable['output_type'] = 'display_data';\n",
              "          await google.colab.output.renderOutput(dataTable, element);\n",
              "          const docLink = document.createElement('div');\n",
              "          docLink.innerHTML = docLinkHtml;\n",
              "          element.appendChild(docLink);\n",
              "        }\n",
              "      </script>\n",
              "    </div>\n",
              "  </div>\n",
              "  "
            ]
          },
          "metadata": {},
          "execution_count": 8
        }
      ],
      "source": [
        "data"
      ]
    },
    {
      "cell_type": "code",
      "execution_count": null,
      "id": "3f5e8edc",
      "metadata": {
        "colab": {
          "base_uri": "https://localhost:8080/"
        },
        "id": "3f5e8edc",
        "outputId": "57235ea1-3a49-42ff-a288-18592c25f4d1"
      },
      "outputs": [
        {
          "output_type": "execute_result",
          "data": {
            "text/plain": [
              "(353, 353, 353)"
            ]
          },
          "metadata": {},
          "execution_count": 9
        }
      ],
      "source": [
        "def moving_average(X: torch.Tensor, width: int) -> torch.Tensor:\n",
        "    ret:torch.Tensor = torch.cumsum(X, dim=0)\n",
        "    ret[width:] = ret[width:] - ret[:-width]\n",
        "    return ret[width - 1:] / width\n",
        "\n",
        "r = prices[1:]/prices[:-1] - 1\n",
        "short_moving = moving_average(prices, short)[long-short:-1]\n",
        "long_moving = moving_average(prices, long)[:-1]\n",
        "r = r[long-1:]\n",
        "short_moving.size(0), long_moving.size(0), r.size(0)"
      ]
    },
    {
      "cell_type": "code",
      "execution_count": null,
      "id": "50dc1858",
      "metadata": {
        "id": "50dc1858"
      },
      "outputs": [],
      "source": [
        "#Избавляемся от ненужных строк\n",
        "data = data.drop(len(data)-1)\n",
        "data = data.drop(data.index[0:long-1])"
      ]
    },
    {
      "cell_type": "code",
      "execution_count": null,
      "id": "109dce6a",
      "metadata": {
        "id": "109dce6a"
      },
      "outputs": [],
      "source": [
        "#рассчитываем доходность стратегии\n",
        "data['strategy'] = data['r']*(data['SMA']>data['LMA']) - data['r']*(data['SMA']<data['LMA'])\n"
      ]
    },
    {
      "cell_type": "code",
      "execution_count": null,
      "id": "87ed82b5",
      "metadata": {
        "id": "87ed82b5"
      },
      "outputs": [],
      "source": [
        "strat = r * (short_moving > long_moving) - r * (short_moving < long_moving)"
      ]
    },
    {
      "cell_type": "code",
      "execution_count": null,
      "id": "7ef19e88",
      "metadata": {
        "colab": {
          "base_uri": "https://localhost:8080/",
          "height": 423
        },
        "id": "7ef19e88",
        "outputId": "c14e367c-a3e0-45b8-c886-9086fba63a78"
      },
      "outputs": [
        {
          "output_type": "execute_result",
          "data": {
            "text/plain": [
              "                    Date     Price         r        SMA           LMA  \\\n",
              "11   2021-04-30 00:00:00  53584.15  0.078614  53334.386  53494.885833   \n",
              "12   2021-05-01 00:00:00  57796.62  0.001053  55078.594  53623.647500   \n",
              "13   2021-05-02 00:00:00  57857.50 -0.021554  55838.766  53803.177500   \n",
              "14   2021-05-03 00:00:00  56610.46  0.010649  56146.566  53811.723333   \n",
              "15   2021-05-04 00:00:00  57213.33 -0.069418  56612.412  54095.434167   \n",
              "..                   ...       ...       ...        ...           ...   \n",
              "359  2022-04-13 00:00:00  40102.20  0.026080  41360.336  43675.753333   \n",
              "360  2022-04-14 00:00:00  41148.06 -0.029361  41134.160  43247.878333   \n",
              "361  2022-04-15 00:00:00  39939.90  0.015681  40564.602  42757.423333   \n",
              "362  2022-04-16 00:00:00  40566.20 -0.004374  40248.996  42269.146667   \n",
              "363  2022-04-17 00:00:00  40388.78 -0.016770  40429.028  41750.606667   \n",
              "\n",
              "     strategy  \n",
              "11  -0.078614  \n",
              "12   0.001053  \n",
              "13  -0.021554  \n",
              "14   0.010649  \n",
              "15  -0.069418  \n",
              "..        ...  \n",
              "359 -0.026080  \n",
              "360  0.029361  \n",
              "361 -0.015681  \n",
              "362  0.004374  \n",
              "363  0.016770  \n",
              "\n",
              "[353 rows x 6 columns]"
            ],
            "text/html": [
              "\n",
              "  <div id=\"df-f86d7c37-c3a5-4f0a-814a-80131aa9fd6b\">\n",
              "    <div class=\"colab-df-container\">\n",
              "      <div>\n",
              "<style scoped>\n",
              "    .dataframe tbody tr th:only-of-type {\n",
              "        vertical-align: middle;\n",
              "    }\n",
              "\n",
              "    .dataframe tbody tr th {\n",
              "        vertical-align: top;\n",
              "    }\n",
              "\n",
              "    .dataframe thead th {\n",
              "        text-align: right;\n",
              "    }\n",
              "</style>\n",
              "<table border=\"1\" class=\"dataframe\">\n",
              "  <thead>\n",
              "    <tr style=\"text-align: right;\">\n",
              "      <th></th>\n",
              "      <th>Date</th>\n",
              "      <th>Price</th>\n",
              "      <th>r</th>\n",
              "      <th>SMA</th>\n",
              "      <th>LMA</th>\n",
              "      <th>strategy</th>\n",
              "    </tr>\n",
              "  </thead>\n",
              "  <tbody>\n",
              "    <tr>\n",
              "      <th>11</th>\n",
              "      <td>2021-04-30 00:00:00</td>\n",
              "      <td>53584.15</td>\n",
              "      <td>0.078614</td>\n",
              "      <td>53334.386</td>\n",
              "      <td>53494.885833</td>\n",
              "      <td>-0.078614</td>\n",
              "    </tr>\n",
              "    <tr>\n",
              "      <th>12</th>\n",
              "      <td>2021-05-01 00:00:00</td>\n",
              "      <td>57796.62</td>\n",
              "      <td>0.001053</td>\n",
              "      <td>55078.594</td>\n",
              "      <td>53623.647500</td>\n",
              "      <td>0.001053</td>\n",
              "    </tr>\n",
              "    <tr>\n",
              "      <th>13</th>\n",
              "      <td>2021-05-02 00:00:00</td>\n",
              "      <td>57857.50</td>\n",
              "      <td>-0.021554</td>\n",
              "      <td>55838.766</td>\n",
              "      <td>53803.177500</td>\n",
              "      <td>-0.021554</td>\n",
              "    </tr>\n",
              "    <tr>\n",
              "      <th>14</th>\n",
              "      <td>2021-05-03 00:00:00</td>\n",
              "      <td>56610.46</td>\n",
              "      <td>0.010649</td>\n",
              "      <td>56146.566</td>\n",
              "      <td>53811.723333</td>\n",
              "      <td>0.010649</td>\n",
              "    </tr>\n",
              "    <tr>\n",
              "      <th>15</th>\n",
              "      <td>2021-05-04 00:00:00</td>\n",
              "      <td>57213.33</td>\n",
              "      <td>-0.069418</td>\n",
              "      <td>56612.412</td>\n",
              "      <td>54095.434167</td>\n",
              "      <td>-0.069418</td>\n",
              "    </tr>\n",
              "    <tr>\n",
              "      <th>...</th>\n",
              "      <td>...</td>\n",
              "      <td>...</td>\n",
              "      <td>...</td>\n",
              "      <td>...</td>\n",
              "      <td>...</td>\n",
              "      <td>...</td>\n",
              "    </tr>\n",
              "    <tr>\n",
              "      <th>359</th>\n",
              "      <td>2022-04-13 00:00:00</td>\n",
              "      <td>40102.20</td>\n",
              "      <td>0.026080</td>\n",
              "      <td>41360.336</td>\n",
              "      <td>43675.753333</td>\n",
              "      <td>-0.026080</td>\n",
              "    </tr>\n",
              "    <tr>\n",
              "      <th>360</th>\n",
              "      <td>2022-04-14 00:00:00</td>\n",
              "      <td>41148.06</td>\n",
              "      <td>-0.029361</td>\n",
              "      <td>41134.160</td>\n",
              "      <td>43247.878333</td>\n",
              "      <td>0.029361</td>\n",
              "    </tr>\n",
              "    <tr>\n",
              "      <th>361</th>\n",
              "      <td>2022-04-15 00:00:00</td>\n",
              "      <td>39939.90</td>\n",
              "      <td>0.015681</td>\n",
              "      <td>40564.602</td>\n",
              "      <td>42757.423333</td>\n",
              "      <td>-0.015681</td>\n",
              "    </tr>\n",
              "    <tr>\n",
              "      <th>362</th>\n",
              "      <td>2022-04-16 00:00:00</td>\n",
              "      <td>40566.20</td>\n",
              "      <td>-0.004374</td>\n",
              "      <td>40248.996</td>\n",
              "      <td>42269.146667</td>\n",
              "      <td>0.004374</td>\n",
              "    </tr>\n",
              "    <tr>\n",
              "      <th>363</th>\n",
              "      <td>2022-04-17 00:00:00</td>\n",
              "      <td>40388.78</td>\n",
              "      <td>-0.016770</td>\n",
              "      <td>40429.028</td>\n",
              "      <td>41750.606667</td>\n",
              "      <td>0.016770</td>\n",
              "    </tr>\n",
              "  </tbody>\n",
              "</table>\n",
              "<p>353 rows × 6 columns</p>\n",
              "</div>\n",
              "      <button class=\"colab-df-convert\" onclick=\"convertToInteractive('df-f86d7c37-c3a5-4f0a-814a-80131aa9fd6b')\"\n",
              "              title=\"Convert this dataframe to an interactive table.\"\n",
              "              style=\"display:none;\">\n",
              "        \n",
              "  <svg xmlns=\"http://www.w3.org/2000/svg\" height=\"24px\"viewBox=\"0 0 24 24\"\n",
              "       width=\"24px\">\n",
              "    <path d=\"M0 0h24v24H0V0z\" fill=\"none\"/>\n",
              "    <path d=\"M18.56 5.44l.94 2.06.94-2.06 2.06-.94-2.06-.94-.94-2.06-.94 2.06-2.06.94zm-11 1L8.5 8.5l.94-2.06 2.06-.94-2.06-.94L8.5 2.5l-.94 2.06-2.06.94zm10 10l.94 2.06.94-2.06 2.06-.94-2.06-.94-.94-2.06-.94 2.06-2.06.94z\"/><path d=\"M17.41 7.96l-1.37-1.37c-.4-.4-.92-.59-1.43-.59-.52 0-1.04.2-1.43.59L10.3 9.45l-7.72 7.72c-.78.78-.78 2.05 0 2.83L4 21.41c.39.39.9.59 1.41.59.51 0 1.02-.2 1.41-.59l7.78-7.78 2.81-2.81c.8-.78.8-2.07 0-2.86zM5.41 20L4 18.59l7.72-7.72 1.47 1.35L5.41 20z\"/>\n",
              "  </svg>\n",
              "      </button>\n",
              "      \n",
              "  <style>\n",
              "    .colab-df-container {\n",
              "      display:flex;\n",
              "      flex-wrap:wrap;\n",
              "      gap: 12px;\n",
              "    }\n",
              "\n",
              "    .colab-df-convert {\n",
              "      background-color: #E8F0FE;\n",
              "      border: none;\n",
              "      border-radius: 50%;\n",
              "      cursor: pointer;\n",
              "      display: none;\n",
              "      fill: #1967D2;\n",
              "      height: 32px;\n",
              "      padding: 0 0 0 0;\n",
              "      width: 32px;\n",
              "    }\n",
              "\n",
              "    .colab-df-convert:hover {\n",
              "      background-color: #E2EBFA;\n",
              "      box-shadow: 0px 1px 2px rgba(60, 64, 67, 0.3), 0px 1px 3px 1px rgba(60, 64, 67, 0.15);\n",
              "      fill: #174EA6;\n",
              "    }\n",
              "\n",
              "    [theme=dark] .colab-df-convert {\n",
              "      background-color: #3B4455;\n",
              "      fill: #D2E3FC;\n",
              "    }\n",
              "\n",
              "    [theme=dark] .colab-df-convert:hover {\n",
              "      background-color: #434B5C;\n",
              "      box-shadow: 0px 1px 3px 1px rgba(0, 0, 0, 0.15);\n",
              "      filter: drop-shadow(0px 1px 2px rgba(0, 0, 0, 0.3));\n",
              "      fill: #FFFFFF;\n",
              "    }\n",
              "  </style>\n",
              "\n",
              "      <script>\n",
              "        const buttonEl =\n",
              "          document.querySelector('#df-f86d7c37-c3a5-4f0a-814a-80131aa9fd6b button.colab-df-convert');\n",
              "        buttonEl.style.display =\n",
              "          google.colab.kernel.accessAllowed ? 'block' : 'none';\n",
              "\n",
              "        async function convertToInteractive(key) {\n",
              "          const element = document.querySelector('#df-f86d7c37-c3a5-4f0a-814a-80131aa9fd6b');\n",
              "          const dataTable =\n",
              "            await google.colab.kernel.invokeFunction('convertToInteractive',\n",
              "                                                     [key], {});\n",
              "          if (!dataTable) return;\n",
              "\n",
              "          const docLinkHtml = 'Like what you see? Visit the ' +\n",
              "            '<a target=\"_blank\" href=https://colab.research.google.com/notebooks/data_table.ipynb>data table notebook</a>'\n",
              "            + ' to learn more about interactive tables.';\n",
              "          element.innerHTML = '';\n",
              "          dataTable['output_type'] = 'display_data';\n",
              "          await google.colab.output.renderOutput(dataTable, element);\n",
              "          const docLink = document.createElement('div');\n",
              "          docLink.innerHTML = docLinkHtml;\n",
              "          element.appendChild(docLink);\n",
              "        }\n",
              "      </script>\n",
              "    </div>\n",
              "  </div>\n",
              "  "
            ]
          },
          "metadata": {},
          "execution_count": 13
        }
      ],
      "source": [
        "data"
      ]
    },
    {
      "cell_type": "code",
      "execution_count": null,
      "id": "076c89db",
      "metadata": {
        "colab": {
          "base_uri": "https://localhost:8080/",
          "height": 265
        },
        "id": "076c89db",
        "outputId": "f337b867-cce5-4c2c-f0d7-8ee0910596fc"
      },
      "outputs": [
        {
          "output_type": "display_data",
          "data": {
            "text/plain": [
              "<Figure size 432x288 with 1 Axes>"
            ],
            "image/png": "[encoded data removed]"
          },
          "metadata": {
            "needs_background": "light"
          }
        }
      ],
      "source": [
        "plt.plot(torch.cumprod(1 + strat, dim=0))\n",
        "plt.plot(torch.cumprod(1 + r, dim=0))\n",
        "plt.show()"
      ]
    },
    {
      "cell_type": "code",
      "execution_count": null,
      "id": "d74f4676",
      "metadata": {
        "colab": {
          "base_uri": "https://localhost:8080/",
          "height": 300
        },
        "id": "d74f4676",
        "outputId": "a8d4e48c-21be-49a0-cb72-01ab4c3b750f"
      },
      "outputs": [
        {
          "output_type": "stream",
          "name": "stdout",
          "text": [
            "Годовая доходность стратегии скользящих средних -28.69%\n",
            "Годовая доходность стратегии buy and hold -19.53%\n"
          ]
        },
        {
          "output_type": "display_data",
          "data": {
            "text/plain": [
              "<Figure size 432x288 with 1 Axes>"
            ],
            "image/png": "[encoded data removed]"
          },
          "metadata": {
            "needs_background": "light"
          }
        }
      ],
      "source": [
        "#визуализируем результаты\n",
        "plt.plot(np.cumprod(1+data['strategy']))\n",
        "plt.plot(np.cumprod(1+data['r']))\n",
        "r_strat = np.prod(1+data['strategy'])**(256/len(data['strategy'])) - 1\n",
        "r_bnh = np.prod(1+data['r'])**(256/len(data['r'])) - 1\n",
        "print('Годовая доходность стратегии скользящих средних '+str(round(r_strat*100,2))+'%')\n",
        "print('Годовая доходность стратегии buy and hold '+str(round(r_bnh*100,2))+'%')"
      ]
    },
    {
      "cell_type": "code",
      "execution_count": null,
      "id": "7b1d1791",
      "metadata": {
        "id": "7b1d1791"
      },
      "outputs": [],
      "source": [
        "#функции для подсчета доходностей\n",
        "def profitability_bnh(prices: torch.Tensor):\n",
        "    \"\"\"\n",
        "      Доходность стратегии Buy and hold за весь период\n",
        "    \"\"\"\n",
        "    r = prices[1:]/prices[:-1] - 1\n",
        "    return torch.prod(1 + r, dim=0) - 1\n",
        "\n",
        "def profability_mooving_average(prices: torch.Tensor, short: int, long: int):\n",
        "    \"\"\"\n",
        "      Доходность скользящих средних за весь период\n",
        "    \"\"\"\n",
        "    r = prices[1:]/prices[:-1] - 1\n",
        "    short_moving = moving_average(prices, short)[long-short:-1]\n",
        "    long_moving = moving_average(prices, long)[:-1]\n",
        "    r = r[long-1:]\n",
        "    strat = r * (short_moving > long_moving) - r * (short_moving < long_moving)\n",
        "    return torch.prod(1 + strat, dim=0) - 1"
      ]
    },
    {
      "cell_type": "code",
      "execution_count": null,
      "id": "kP8gLQKkkU3I",
      "metadata": {
        "colab": {
          "base_uri": "https://localhost:8080/"
        },
        "id": "kP8gLQKkkU3I",
        "outputId": "a6bcbecb-b203-4b84-bcbf-464732ab9631"
      },
      "outputs": [
        {
          "output_type": "execute_result",
          "data": {
            "text/plain": [
              "(tensor(-0.2940), tensor(-0.0558))"
            ]
          },
          "metadata": {},
          "execution_count": 17
        }
      ],
      "source": [
        "profitability_bnh(prices), profability_mooving_average(prices, 3, 20)"
      ]
    },
    {
      "cell_type": "code",
      "execution_count": null,
      "id": "lBY1AqpTkwAJ",
      "metadata": {
        "id": "lBY1AqpTkwAJ"
      },
      "outputs": [],
      "source": [
        "def sgd_step(x_0:int, y_0:int):\n",
        "    a = profability_mooving_average(prices, x_0,y_0)\n",
        "    b = profability_mooving_average(prices, x_0 + 1,y_0)\n",
        "    c = profability_mooving_average(prices, x_0 - 1,y_0)\n",
        "    d = profability_mooving_average(prices, x_0,y_0 + 1)\n",
        "    e = profability_mooving_average(prices, x_0,y_0 - 1)\n",
        "    if a == max(a,b,c,d,e):\n",
        "        return x_0,y_0\n",
        "    elif b == max(a,b,c,d,e):\n",
        "        return (x_0 + 1,y_0)\n",
        "    elif c == max(a,b,c,d,e):\n",
        "        return (x_0 - 1,y_0)\n",
        "    elif d == max(a,b,c,d,e):\n",
        "        return (x_0, y_0 + 1)\n",
        "    else:\n",
        "        return (x_0, y_0 - 1)\n",
        "\n",
        "def sgd(x_0:int, y_0:int):\n",
        "    (x,y) = sgd_step(x_0,y_0)\n",
        "    while (x, y) != (x_0, y_0):\n",
        "        x_0, y_0 = x, y\n",
        "        (x, y) = sgd_step(x_0, y_0)\n",
        "    return x_0, y_0\n",
        "    \n",
        "    "
      ]
    },
    {
      "cell_type": "code",
      "execution_count": null,
      "id": "82037de2",
      "metadata": {
        "colab": {
          "base_uri": "https://localhost:8080/"
        },
        "id": "82037de2",
        "outputId": "e870fa63-9f1e-4685-8dd7-b45254914c7a"
      },
      "outputs": [
        {
          "output_type": "stream",
          "name": "stdout",
          "text": [
            "4 22\n",
            "tensor(0.1364)\n"
          ]
        }
      ],
      "source": [
        "x, y = sgd(3,22)\n",
        "print(x, y)\n",
        "print(profability_mooving_average(prices, x, y))"
      ]
    },
    {
      "cell_type": "code",
      "source": [
        "import random"
      ],
      "metadata": {
        "id": "rABL7KYlGtlq"
      },
      "id": "rABL7KYlGtlq",
      "execution_count": null,
      "outputs": []
    },
    {
      "cell_type": "code",
      "execution_count": null,
      "id": "e11f64d0",
      "metadata": {
        "id": "e11f64d0"
      },
      "outputs": [],
      "source": [
        "def monte(n:int):\n",
        "  l=[]\n",
        "  x=np.zeros(n, dtype=int)\n",
        "  y=np.zeros(n, dtype=int)\n",
        "  x_0=np.zeros(n, dtype=int)\n",
        "  y_0=np.zeros(n, dtype=int)\n",
        "  for i in range(n):\n",
        "    x[i] = random.randint(2,20)\n",
        "    y[i] = random.randint(x[i] + 1,50)\n",
        "    #print(x[i], y[i])\n",
        "    x_0[i],y_0[i] = sgd(x[i],y[i])\n",
        "    #print(int(x_0[i]), int(y_0[i]))\n",
        "    l.append(float(profability_mooving_average(prices, int(x_0[i]), int(y_0[i]))))\n",
        "  maximize = max(l)\n",
        "  idx = l.index(maximize)\n",
        "\n",
        "  #print(l)\n",
        "  return maximize, x_0[idx], y_0[idx]\n",
        "\n"
      ]
    },
    {
      "cell_type": "code",
      "source": [
        "print(monte(20))"
      ],
      "metadata": {
        "colab": {
          "base_uri": "https://localhost:8080/"
        },
        "id": "eKO5v2g6G6tB",
        "outputId": "743f8775-e758-478c-b0e9-67711d9af691"
      },
      "id": "eKO5v2g6G6tB",
      "execution_count": null,
      "outputs": [
        {
          "output_type": "stream",
          "name": "stdout",
          "text": [
            "(0.551207423210144, 3, 37)\n"
          ]
        }
      ]
    },
    {
      "cell_type": "code",
      "source": [
        ""
      ],
      "metadata": {
        "id": "a5C8hKRXKzXy"
      },
      "id": "a5C8hKRXKzXy",
      "execution_count": null,
      "outputs": []
    }
  ],
  "metadata": {
    "colab": {
      "collapsed_sections": [],
      "name": "first_steps.ipynb",
      "provenance": []
    },
    "kernelspec": {
      "display_name": "Python 3 (ipykernel)",
      "language": "python",
      "name": "python3"
    },
    "language_info": {
      "codemirror_mode": {
        "name": "ipython",
        "version": 3
      },
      "file_extension": ".py",
      "mimetype": "text/x-python",
      "name": "python",
      "nbconvert_exporter": "python",
      "pygments_lexer": "ipython3",
      "version": "3.10.0"
    }
  },
  "nbformat": 4,
  "nbformat_minor": 5
}