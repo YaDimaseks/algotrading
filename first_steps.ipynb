{
  "cells": [
    {
      "cell_type": "code",
      "execution_count": 2,
      "id": "RbikXjWwbC3q",
      "metadata": {
        "colab": {
          "base_uri": "https://localhost:8080/"
        },
        "id": "RbikXjWwbC3q",
        "outputId": "ff8a4a52-13a5-445b-fb3d-fa7411c65c08"
      },
      "outputs": [
        {
          "output_type": "stream",
          "name": "stdout",
          "text": [
            "Collecting wget\n",
            "  Downloading wget-3.2.zip (10 kB)\n",
            "Building wheels for collected packages: wget\n",
            "  Building wheel for wget (setup.py) ... \u001b[?25l\u001b[?25hdone\n",
            "  Created wheel for wget: filename=wget-3.2-py3-none-any.whl size=9675 sha256=9382d06ba24121ce4ccf3c31644b7701ecdcdc513cfbcf6ffb16adbfeb485ccb\n",
            "  Stored in directory: /root/.cache/pip/wheels/a1/b6/7c/0e63e34eb06634181c63adacca38b79ff8f35c37e3c13e3c02\n",
            "Successfully built wget\n",
            "Installing collected packages: wget\n",
            "Successfully installed wget-3.2\n"
          ]
        }
      ],
      "source": [
        "# uncomment if you're don't have wget\n",
        "!pip install wget\n"
      ]
    },
    {
      "cell_type": "code",
      "execution_count": 3,
      "id": "fbf38683",
      "metadata": {
        "id": "fbf38683"
      },
      "outputs": [],
      "source": [
        "import numpy as np\n",
        "import pandas as pd\n",
        "import matplotlib.pyplot as plt\n",
        "import wget\n",
        "import torch\n",
        "import os\n",
        "%matplotlib inline"
      ]
    },
    {
      "cell_type": "code",
      "execution_count": 4,
      "id": "9754b56d",
      "metadata": {
        "id": "9754b56d"
      },
      "outputs": [],
      "source": [
        "#константы\n",
        "LINK = 'https://api.blockchain.info/charts/market-price?format=csv'\n",
        "LINK2 = ''\n",
        "percentage = 100"
      ]
    },
    {
      "cell_type": "code",
      "execution_count": 5,
      "id": "b7aee2fd",
      "metadata": {
        "id": "b7aee2fd"
      },
      "outputs": [],
      "source": [
        "#импорт данных\n",
        "if not os.path.exists('market-price.csv'):\n",
        "    wget.download(LINK, \"market-price.csv\")\n",
        "data = pd.read_csv('market-price.csv')\n",
        "data = data.rename(columns={data.columns[0]: \"Date\", data.columns[1]: \"Price\"})[:int(len(data.values)*percentage/100)]\n",
        "prices = torch.Tensor(data['Price'].values)"
      ]
    },
    {
      "cell_type": "code",
      "execution_count": 6,
      "id": "590354a8",
      "metadata": {
        "id": "590354a8"
      },
      "outputs": [],
      "source": [
        "#рассчет доходностей\n",
        "data['r'] = data['Price'][1:].reset_index(drop=True)/data['Price'][:-1].reset_index(drop=True) - 1\n",
        "r = prices[1:]/prices[:-1] - 1"
      ]
    },
    {
      "cell_type": "code",
      "execution_count": 7,
      "id": "e0a95cd5",
      "metadata": {
        "colab": {
          "base_uri": "https://localhost:8080/",
          "height": 423
        },
        "id": "e0a95cd5",
        "outputId": "48ca7ef5-fd4a-438f-8ca1-5f475efd0e65"
      },
      "outputs": [
        {
          "output_type": "execute_result",
          "data": {
            "text/plain": [
              "                    Date     Price         r\n",
              "0    2021-04-09 00:00:00  58048.59  0.000930\n",
              "1    2021-04-10 00:00:00  58102.58  0.028767\n",
              "2    2021-04-11 00:00:00  59774.00  0.003193\n",
              "3    2021-04-12 00:00:00  59964.87 -0.002170\n",
              "4    2021-04-13 00:00:00  59834.74  0.062166\n",
              "..                   ...       ...       ...\n",
              "360  2022-04-04 00:00:00  46425.52  0.004001\n",
              "361  2022-04-05 00:00:00  46611.26 -0.023666\n",
              "362  2022-04-06 00:00:00  45508.16 -0.050935\n",
              "363  2022-04-07 00:00:00  43190.18  0.006347\n",
              "364  2022-04-08 00:00:00  43464.32       NaN\n",
              "\n",
              "[365 rows x 3 columns]"
            ],
            "text/html": [
              "\n",
              "  <div id=\"df-99d9927f-2052-43a4-b3ec-1d255b598b6d\">\n",
              "    <div class=\"colab-df-container\">\n",
              "      <div>\n",
              "<style scoped>\n",
              "    .dataframe tbody tr th:only-of-type {\n",
              "        vertical-align: middle;\n",
              "    }\n",
              "\n",
              "    .dataframe tbody tr th {\n",
              "        vertical-align: top;\n",
              "    }\n",
              "\n",
              "    .dataframe thead th {\n",
              "        text-align: right;\n",
              "    }\n",
              "</style>\n",
              "<table border=\"1\" class=\"dataframe\">\n",
              "  <thead>\n",
              "    <tr style=\"text-align: right;\">\n",
              "      <th></th>\n",
              "      <th>Date</th>\n",
              "      <th>Price</th>\n",
              "      <th>r</th>\n",
              "    </tr>\n",
              "  </thead>\n",
              "  <tbody>\n",
              "    <tr>\n",
              "      <th>0</th>\n",
              "      <td>2021-04-09 00:00:00</td>\n",
              "      <td>58048.59</td>\n",
              "      <td>0.000930</td>\n",
              "    </tr>\n",
              "    <tr>\n",
              "      <th>1</th>\n",
              "      <td>2021-04-10 00:00:00</td>\n",
              "      <td>58102.58</td>\n",
              "      <td>0.028767</td>\n",
              "    </tr>\n",
              "    <tr>\n",
              "      <th>2</th>\n",
              "      <td>2021-04-11 00:00:00</td>\n",
              "      <td>59774.00</td>\n",
              "      <td>0.003193</td>\n",
              "    </tr>\n",
              "    <tr>\n",
              "      <th>3</th>\n",
              "      <td>2021-04-12 00:00:00</td>\n",
              "      <td>59964.87</td>\n",
              "      <td>-0.002170</td>\n",
              "    </tr>\n",
              "    <tr>\n",
              "      <th>4</th>\n",
              "      <td>2021-04-13 00:00:00</td>\n",
              "      <td>59834.74</td>\n",
              "      <td>0.062166</td>\n",
              "    </tr>\n",
              "    <tr>\n",
              "      <th>...</th>\n",
              "      <td>...</td>\n",
              "      <td>...</td>\n",
              "      <td>...</td>\n",
              "    </tr>\n",
              "    <tr>\n",
              "      <th>360</th>\n",
              "      <td>2022-04-04 00:00:00</td>\n",
              "      <td>46425.52</td>\n",
              "      <td>0.004001</td>\n",
              "    </tr>\n",
              "    <tr>\n",
              "      <th>361</th>\n",
              "      <td>2022-04-05 00:00:00</td>\n",
              "      <td>46611.26</td>\n",
              "      <td>-0.023666</td>\n",
              "    </tr>\n",
              "    <tr>\n",
              "      <th>362</th>\n",
              "      <td>2022-04-06 00:00:00</td>\n",
              "      <td>45508.16</td>\n",
              "      <td>-0.050935</td>\n",
              "    </tr>\n",
              "    <tr>\n",
              "      <th>363</th>\n",
              "      <td>2022-04-07 00:00:00</td>\n",
              "      <td>43190.18</td>\n",
              "      <td>0.006347</td>\n",
              "    </tr>\n",
              "    <tr>\n",
              "      <th>364</th>\n",
              "      <td>2022-04-08 00:00:00</td>\n",
              "      <td>43464.32</td>\n",
              "      <td>NaN</td>\n",
              "    </tr>\n",
              "  </tbody>\n",
              "</table>\n",
              "<p>365 rows × 3 columns</p>\n",
              "</div>\n",
              "      <button class=\"colab-df-convert\" onclick=\"convertToInteractive('df-99d9927f-2052-43a4-b3ec-1d255b598b6d')\"\n",
              "              title=\"Convert this dataframe to an interactive table.\"\n",
              "              style=\"display:none;\">\n",
              "        \n",
              "  <svg xmlns=\"http://www.w3.org/2000/svg\" height=\"24px\"viewBox=\"0 0 24 24\"\n",
              "       width=\"24px\">\n",
              "    <path d=\"M0 0h24v24H0V0z\" fill=\"none\"/>\n",
              "    <path d=\"M18.56 5.44l.94 2.06.94-2.06 2.06-.94-2.06-.94-.94-2.06-.94 2.06-2.06.94zm-11 1L8.5 8.5l.94-2.06 2.06-.94-2.06-.94L8.5 2.5l-.94 2.06-2.06.94zm10 10l.94 2.06.94-2.06 2.06-.94-2.06-.94-.94-2.06-.94 2.06-2.06.94z\"/><path d=\"M17.41 7.96l-1.37-1.37c-.4-.4-.92-.59-1.43-.59-.52 0-1.04.2-1.43.59L10.3 9.45l-7.72 7.72c-.78.78-.78 2.05 0 2.83L4 21.41c.39.39.9.59 1.41.59.51 0 1.02-.2 1.41-.59l7.78-7.78 2.81-2.81c.8-.78.8-2.07 0-2.86zM5.41 20L4 18.59l7.72-7.72 1.47 1.35L5.41 20z\"/>\n",
              "  </svg>\n",
              "      </button>\n",
              "      \n",
              "  <style>\n",
              "    .colab-df-container {\n",
              "      display:flex;\n",
              "      flex-wrap:wrap;\n",
              "      gap: 12px;\n",
              "    }\n",
              "\n",
              "    .colab-df-convert {\n",
              "      background-color: #E8F0FE;\n",
              "      border: none;\n",
              "      border-radius: 50%;\n",
              "      cursor: pointer;\n",
              "      display: none;\n",
              "      fill: #1967D2;\n",
              "      height: 32px;\n",
              "      padding: 0 0 0 0;\n",
              "      width: 32px;\n",
              "    }\n",
              "\n",
              "    .colab-df-convert:hover {\n",
              "      background-color: #E2EBFA;\n",
              "      box-shadow: 0px 1px 2px rgba(60, 64, 67, 0.3), 0px 1px 3px 1px rgba(60, 64, 67, 0.15);\n",
              "      fill: #174EA6;\n",
              "    }\n",
              "\n",
              "    [theme=dark] .colab-df-convert {\n",
              "      background-color: #3B4455;\n",
              "      fill: #D2E3FC;\n",
              "    }\n",
              "\n",
              "    [theme=dark] .colab-df-convert:hover {\n",
              "      background-color: #434B5C;\n",
              "      box-shadow: 0px 1px 3px 1px rgba(0, 0, 0, 0.15);\n",
              "      filter: drop-shadow(0px 1px 2px rgba(0, 0, 0, 0.3));\n",
              "      fill: #FFFFFF;\n",
              "    }\n",
              "  </style>\n",
              "\n",
              "      <script>\n",
              "        const buttonEl =\n",
              "          document.querySelector('#df-99d9927f-2052-43a4-b3ec-1d255b598b6d button.colab-df-convert');\n",
              "        buttonEl.style.display =\n",
              "          google.colab.kernel.accessAllowed ? 'block' : 'none';\n",
              "\n",
              "        async function convertToInteractive(key) {\n",
              "          const element = document.querySelector('#df-99d9927f-2052-43a4-b3ec-1d255b598b6d');\n",
              "          const dataTable =\n",
              "            await google.colab.kernel.invokeFunction('convertToInteractive',\n",
              "                                                     [key], {});\n",
              "          if (!dataTable) return;\n",
              "\n",
              "          const docLinkHtml = 'Like what you see? Visit the ' +\n",
              "            '<a target=\"_blank\" href=https://colab.research.google.com/notebooks/data_table.ipynb>data table notebook</a>'\n",
              "            + ' to learn more about interactive tables.';\n",
              "          element.innerHTML = '';\n",
              "          dataTable['output_type'] = 'display_data';\n",
              "          await google.colab.output.renderOutput(dataTable, element);\n",
              "          const docLink = document.createElement('div');\n",
              "          docLink.innerHTML = docLinkHtml;\n",
              "          element.appendChild(docLink);\n",
              "        }\n",
              "      </script>\n",
              "    </div>\n",
              "  </div>\n",
              "  "
            ]
          },
          "metadata": {},
          "execution_count": 7
        }
      ],
      "source": [
        "data"
      ]
    },
    {
      "cell_type": "code",
      "execution_count": 8,
      "id": "12fd316c",
      "metadata": {
        "id": "12fd316c"
      },
      "outputs": [],
      "source": [
        "#рассчет скользящих средник \n",
        "short = 5\n",
        "long = 12\n",
        "data['SMA'] = data['Price'].rolling(short).mean()\n",
        "data['LMA'] = data['Price'].rolling(long).mean()"
      ]
    },
    {
      "cell_type": "code",
      "execution_count": 9,
      "id": "UbU9TIy8djZT",
      "metadata": {
        "colab": {
          "base_uri": "https://localhost:8080/",
          "height": 423
        },
        "id": "UbU9TIy8djZT",
        "outputId": "58ff882e-9007-4677-d511-8c5fe0e2f1de"
      },
      "outputs": [
        {
          "output_type": "execute_result",
          "data": {
            "text/plain": [
              "                    Date     Price         r        SMA           LMA\n",
              "0    2021-04-09 00:00:00  58048.59  0.000930        NaN           NaN\n",
              "1    2021-04-10 00:00:00  58102.58  0.028767        NaN           NaN\n",
              "2    2021-04-11 00:00:00  59774.00  0.003193        NaN           NaN\n",
              "3    2021-04-12 00:00:00  59964.87 -0.002170        NaN           NaN\n",
              "4    2021-04-13 00:00:00  59834.74  0.062166  59144.956           NaN\n",
              "..                   ...       ...       ...        ...           ...\n",
              "360  2022-04-04 00:00:00  46425.52  0.004001  46227.364  45695.461667\n",
              "361  2022-04-05 00:00:00  46611.26 -0.023666  46136.784  46004.311667\n",
              "362  2022-04-06 00:00:00  45508.16 -0.050935  46130.572  46129.619167\n",
              "363  2022-04-07 00:00:00  43190.18  0.006347  45512.096  46034.273333\n",
              "364  2022-04-08 00:00:00  43464.32       NaN  45039.888  45944.434167\n",
              "\n",
              "[365 rows x 5 columns]"
            ],
            "text/html": [
              "\n",
              "  <div id=\"df-bf428231-2dec-4ff7-86ba-2d1e8e463ffd\">\n",
              "    <div class=\"colab-df-container\">\n",
              "      <div>\n",
              "<style scoped>\n",
              "    .dataframe tbody tr th:only-of-type {\n",
              "        vertical-align: middle;\n",
              "    }\n",
              "\n",
              "    .dataframe tbody tr th {\n",
              "        vertical-align: top;\n",
              "    }\n",
              "\n",
              "    .dataframe thead th {\n",
              "        text-align: right;\n",
              "    }\n",
              "</style>\n",
              "<table border=\"1\" class=\"dataframe\">\n",
              "  <thead>\n",
              "    <tr style=\"text-align: right;\">\n",
              "      <th></th>\n",
              "      <th>Date</th>\n",
              "      <th>Price</th>\n",
              "      <th>r</th>\n",
              "      <th>SMA</th>\n",
              "      <th>LMA</th>\n",
              "    </tr>\n",
              "  </thead>\n",
              "  <tbody>\n",
              "    <tr>\n",
              "      <th>0</th>\n",
              "      <td>2021-04-09 00:00:00</td>\n",
              "      <td>58048.59</td>\n",
              "      <td>0.000930</td>\n",
              "      <td>NaN</td>\n",
              "      <td>NaN</td>\n",
              "    </tr>\n",
              "    <tr>\n",
              "      <th>1</th>\n",
              "      <td>2021-04-10 00:00:00</td>\n",
              "      <td>58102.58</td>\n",
              "      <td>0.028767</td>\n",
              "      <td>NaN</td>\n",
              "      <td>NaN</td>\n",
              "    </tr>\n",
              "    <tr>\n",
              "      <th>2</th>\n",
              "      <td>2021-04-11 00:00:00</td>\n",
              "      <td>59774.00</td>\n",
              "      <td>0.003193</td>\n",
              "      <td>NaN</td>\n",
              "      <td>NaN</td>\n",
              "    </tr>\n",
              "    <tr>\n",
              "      <th>3</th>\n",
              "      <td>2021-04-12 00:00:00</td>\n",
              "      <td>59964.87</td>\n",
              "      <td>-0.002170</td>\n",
              "      <td>NaN</td>\n",
              "      <td>NaN</td>\n",
              "    </tr>\n",
              "    <tr>\n",
              "      <th>4</th>\n",
              "      <td>2021-04-13 00:00:00</td>\n",
              "      <td>59834.74</td>\n",
              "      <td>0.062166</td>\n",
              "      <td>59144.956</td>\n",
              "      <td>NaN</td>\n",
              "    </tr>\n",
              "    <tr>\n",
              "      <th>...</th>\n",
              "      <td>...</td>\n",
              "      <td>...</td>\n",
              "      <td>...</td>\n",
              "      <td>...</td>\n",
              "      <td>...</td>\n",
              "    </tr>\n",
              "    <tr>\n",
              "      <th>360</th>\n",
              "      <td>2022-04-04 00:00:00</td>\n",
              "      <td>46425.52</td>\n",
              "      <td>0.004001</td>\n",
              "      <td>46227.364</td>\n",
              "      <td>45695.461667</td>\n",
              "    </tr>\n",
              "    <tr>\n",
              "      <th>361</th>\n",
              "      <td>2022-04-05 00:00:00</td>\n",
              "      <td>46611.26</td>\n",
              "      <td>-0.023666</td>\n",
              "      <td>46136.784</td>\n",
              "      <td>46004.311667</td>\n",
              "    </tr>\n",
              "    <tr>\n",
              "      <th>362</th>\n",
              "      <td>2022-04-06 00:00:00</td>\n",
              "      <td>45508.16</td>\n",
              "      <td>-0.050935</td>\n",
              "      <td>46130.572</td>\n",
              "      <td>46129.619167</td>\n",
              "    </tr>\n",
              "    <tr>\n",
              "      <th>363</th>\n",
              "      <td>2022-04-07 00:00:00</td>\n",
              "      <td>43190.18</td>\n",
              "      <td>0.006347</td>\n",
              "      <td>45512.096</td>\n",
              "      <td>46034.273333</td>\n",
              "    </tr>\n",
              "    <tr>\n",
              "      <th>364</th>\n",
              "      <td>2022-04-08 00:00:00</td>\n",
              "      <td>43464.32</td>\n",
              "      <td>NaN</td>\n",
              "      <td>45039.888</td>\n",
              "      <td>45944.434167</td>\n",
              "    </tr>\n",
              "  </tbody>\n",
              "</table>\n",
              "<p>365 rows × 5 columns</p>\n",
              "</div>\n",
              "      <button class=\"colab-df-convert\" onclick=\"convertToInteractive('df-bf428231-2dec-4ff7-86ba-2d1e8e463ffd')\"\n",
              "              title=\"Convert this dataframe to an interactive table.\"\n",
              "              style=\"display:none;\">\n",
              "        \n",
              "  <svg xmlns=\"http://www.w3.org/2000/svg\" height=\"24px\"viewBox=\"0 0 24 24\"\n",
              "       width=\"24px\">\n",
              "    <path d=\"M0 0h24v24H0V0z\" fill=\"none\"/>\n",
              "    <path d=\"M18.56 5.44l.94 2.06.94-2.06 2.06-.94-2.06-.94-.94-2.06-.94 2.06-2.06.94zm-11 1L8.5 8.5l.94-2.06 2.06-.94-2.06-.94L8.5 2.5l-.94 2.06-2.06.94zm10 10l.94 2.06.94-2.06 2.06-.94-2.06-.94-.94-2.06-.94 2.06-2.06.94z\"/><path d=\"M17.41 7.96l-1.37-1.37c-.4-.4-.92-.59-1.43-.59-.52 0-1.04.2-1.43.59L10.3 9.45l-7.72 7.72c-.78.78-.78 2.05 0 2.83L4 21.41c.39.39.9.59 1.41.59.51 0 1.02-.2 1.41-.59l7.78-7.78 2.81-2.81c.8-.78.8-2.07 0-2.86zM5.41 20L4 18.59l7.72-7.72 1.47 1.35L5.41 20z\"/>\n",
              "  </svg>\n",
              "      </button>\n",
              "      \n",
              "  <style>\n",
              "    .colab-df-container {\n",
              "      display:flex;\n",
              "      flex-wrap:wrap;\n",
              "      gap: 12px;\n",
              "    }\n",
              "\n",
              "    .colab-df-convert {\n",
              "      background-color: #E8F0FE;\n",
              "      border: none;\n",
              "      border-radius: 50%;\n",
              "      cursor: pointer;\n",
              "      display: none;\n",
              "      fill: #1967D2;\n",
              "      height: 32px;\n",
              "      padding: 0 0 0 0;\n",
              "      width: 32px;\n",
              "    }\n",
              "\n",
              "    .colab-df-convert:hover {\n",
              "      background-color: #E2EBFA;\n",
              "      box-shadow: 0px 1px 2px rgba(60, 64, 67, 0.3), 0px 1px 3px 1px rgba(60, 64, 67, 0.15);\n",
              "      fill: #174EA6;\n",
              "    }\n",
              "\n",
              "    [theme=dark] .colab-df-convert {\n",
              "      background-color: #3B4455;\n",
              "      fill: #D2E3FC;\n",
              "    }\n",
              "\n",
              "    [theme=dark] .colab-df-convert:hover {\n",
              "      background-color: #434B5C;\n",
              "      box-shadow: 0px 1px 3px 1px rgba(0, 0, 0, 0.15);\n",
              "      filter: drop-shadow(0px 1px 2px rgba(0, 0, 0, 0.3));\n",
              "      fill: #FFFFFF;\n",
              "    }\n",
              "  </style>\n",
              "\n",
              "      <script>\n",
              "        const buttonEl =\n",
              "          document.querySelector('#df-bf428231-2dec-4ff7-86ba-2d1e8e463ffd button.colab-df-convert');\n",
              "        buttonEl.style.display =\n",
              "          google.colab.kernel.accessAllowed ? 'block' : 'none';\n",
              "\n",
              "        async function convertToInteractive(key) {\n",
              "          const element = document.querySelector('#df-bf428231-2dec-4ff7-86ba-2d1e8e463ffd');\n",
              "          const dataTable =\n",
              "            await google.colab.kernel.invokeFunction('convertToInteractive',\n",
              "                                                     [key], {});\n",
              "          if (!dataTable) return;\n",
              "\n",
              "          const docLinkHtml = 'Like what you see? Visit the ' +\n",
              "            '<a target=\"_blank\" href=https://colab.research.google.com/notebooks/data_table.ipynb>data table notebook</a>'\n",
              "            + ' to learn more about interactive tables.';\n",
              "          element.innerHTML = '';\n",
              "          dataTable['output_type'] = 'display_data';\n",
              "          await google.colab.output.renderOutput(dataTable, element);\n",
              "          const docLink = document.createElement('div');\n",
              "          docLink.innerHTML = docLinkHtml;\n",
              "          element.appendChild(docLink);\n",
              "        }\n",
              "      </script>\n",
              "    </div>\n",
              "  </div>\n",
              "  "
            ]
          },
          "metadata": {},
          "execution_count": 9
        }
      ],
      "source": [
        "data"
      ]
    },
    {
      "cell_type": "code",
      "execution_count": 10,
      "id": "3f5e8edc",
      "metadata": {
        "colab": {
          "base_uri": "https://localhost:8080/"
        },
        "id": "3f5e8edc",
        "outputId": "cdc5d550-6224-4fc6-cb46-78a95a1051b6"
      },
      "outputs": [
        {
          "output_type": "execute_result",
          "data": {
            "text/plain": [
              "(353, 353, 353)"
            ]
          },
          "metadata": {},
          "execution_count": 10
        }
      ],
      "source": [
        "def moving_average(X: torch.Tensor, width: int) -> torch.Tensor:\n",
        "    ret:torch.Tensor = torch.cumsum(X, dim=0)\n",
        "    ret[width:] = ret[width:] - ret[:-width]\n",
        "    return ret[width - 1:] / width\n",
        "\n",
        "r = prices[1:]/prices[:-1] - 1\n",
        "short_moving = moving_average(prices, short)[long-short:-1]\n",
        "long_moving = moving_average(prices, long)[:-1]\n",
        "r = r[long-1:]\n",
        "short_moving.size(0), long_moving.size(0), r.size(0)"
      ]
    },
    {
      "cell_type": "code",
      "execution_count": 11,
      "id": "50dc1858",
      "metadata": {
        "id": "50dc1858"
      },
      "outputs": [],
      "source": [
        "#Избавляемся от ненужных строк\n",
        "data = data.drop(len(data)-1)\n",
        "data = data.drop(data.index[0:long-1])"
      ]
    },
    {
      "cell_type": "code",
      "execution_count": 12,
      "id": "109dce6a",
      "metadata": {
        "id": "109dce6a"
      },
      "outputs": [],
      "source": [
        "#рассчитываем доходность стратегии\n",
        "data['strategy'] = data['r']*(data['SMA']>data['LMA']) - data['r']*(data['SMA']<data['LMA'])\n"
      ]
    },
    {
      "cell_type": "code",
      "execution_count": 13,
      "id": "87ed82b5",
      "metadata": {
        "id": "87ed82b5"
      },
      "outputs": [],
      "source": [
        "strat = r * (short_moving > long_moving) - r * (short_moving < long_moving)"
      ]
    },
    {
      "cell_type": "code",
      "execution_count": 14,
      "id": "7ef19e88",
      "metadata": {
        "colab": {
          "base_uri": "https://localhost:8080/",
          "height": 423
        },
        "id": "7ef19e88",
        "outputId": "49a387d6-2793-4d86-b996-23e51e194992"
      },
      "outputs": [
        {
          "output_type": "execute_result",
          "data": {
            "text/plain": [
              "                    Date     Price         r        SMA           LMA  \\\n",
              "11   2021-04-20 00:00:00  55703.14  0.014447  59350.064  59916.555000   \n",
              "12   2021-04-21 00:00:00  56507.91 -0.047765  58001.120  59788.165000   \n",
              "13   2021-04-22 00:00:00  53808.80 -0.038601  56471.684  59430.350000   \n",
              "14   2021-04-23 00:00:00  51731.71 -0.011184  54800.608  58760.159167   \n",
              "15   2021-04-24 00:00:00  51153.13 -0.020382  53780.938  58025.847500   \n",
              "..                   ...       ...       ...        ...           ...   \n",
              "359  2022-04-03 00:00:00  45825.36  0.013097  46431.862  45357.724167   \n",
              "360  2022-04-04 00:00:00  46425.52  0.004001  46227.364  45695.461667   \n",
              "361  2022-04-05 00:00:00  46611.26 -0.023666  46136.784  46004.311667   \n",
              "362  2022-04-06 00:00:00  45508.16 -0.050935  46130.572  46129.619167   \n",
              "363  2022-04-07 00:00:00  43190.18  0.006347  45512.096  46034.273333   \n",
              "\n",
              "     strategy  \n",
              "11  -0.014447  \n",
              "12   0.047765  \n",
              "13   0.038601  \n",
              "14   0.011184  \n",
              "15   0.020382  \n",
              "..        ...  \n",
              "359  0.013097  \n",
              "360  0.004001  \n",
              "361 -0.023666  \n",
              "362 -0.050935  \n",
              "363 -0.006347  \n",
              "\n",
              "[353 rows x 6 columns]"
            ],
            "text/html": [
              "\n",
              "  <div id=\"df-6620d04e-c991-4109-8fea-fb7423cb98e2\">\n",
              "    <div class=\"colab-df-container\">\n",
              "      <div>\n",
              "<style scoped>\n",
              "    .dataframe tbody tr th:only-of-type {\n",
              "        vertical-align: middle;\n",
              "    }\n",
              "\n",
              "    .dataframe tbody tr th {\n",
              "        vertical-align: top;\n",
              "    }\n",
              "\n",
              "    .dataframe thead th {\n",
              "        text-align: right;\n",
              "    }\n",
              "</style>\n",
              "<table border=\"1\" class=\"dataframe\">\n",
              "  <thead>\n",
              "    <tr style=\"text-align: right;\">\n",
              "      <th></th>\n",
              "      <th>Date</th>\n",
              "      <th>Price</th>\n",
              "      <th>r</th>\n",
              "      <th>SMA</th>\n",
              "      <th>LMA</th>\n",
              "      <th>strategy</th>\n",
              "    </tr>\n",
              "  </thead>\n",
              "  <tbody>\n",
              "    <tr>\n",
              "      <th>11</th>\n",
              "      <td>2021-04-20 00:00:00</td>\n",
              "      <td>55703.14</td>\n",
              "      <td>0.014447</td>\n",
              "      <td>59350.064</td>\n",
              "      <td>59916.555000</td>\n",
              "      <td>-0.014447</td>\n",
              "    </tr>\n",
              "    <tr>\n",
              "      <th>12</th>\n",
              "      <td>2021-04-21 00:00:00</td>\n",
              "      <td>56507.91</td>\n",
              "      <td>-0.047765</td>\n",
              "      <td>58001.120</td>\n",
              "      <td>59788.165000</td>\n",
              "      <td>0.047765</td>\n",
              "    </tr>\n",
              "    <tr>\n",
              "      <th>13</th>\n",
              "      <td>2021-04-22 00:00:00</td>\n",
              "      <td>53808.80</td>\n",
              "      <td>-0.038601</td>\n",
              "      <td>56471.684</td>\n",
              "      <td>59430.350000</td>\n",
              "      <td>0.038601</td>\n",
              "    </tr>\n",
              "    <tr>\n",
              "      <th>14</th>\n",
              "      <td>2021-04-23 00:00:00</td>\n",
              "      <td>51731.71</td>\n",
              "      <td>-0.011184</td>\n",
              "      <td>54800.608</td>\n",
              "      <td>58760.159167</td>\n",
              "      <td>0.011184</td>\n",
              "    </tr>\n",
              "    <tr>\n",
              "      <th>15</th>\n",
              "      <td>2021-04-24 00:00:00</td>\n",
              "      <td>51153.13</td>\n",
              "      <td>-0.020382</td>\n",
              "      <td>53780.938</td>\n",
              "      <td>58025.847500</td>\n",
              "      <td>0.020382</td>\n",
              "    </tr>\n",
              "    <tr>\n",
              "      <th>...</th>\n",
              "      <td>...</td>\n",
              "      <td>...</td>\n",
              "      <td>...</td>\n",
              "      <td>...</td>\n",
              "      <td>...</td>\n",
              "      <td>...</td>\n",
              "    </tr>\n",
              "    <tr>\n",
              "      <th>359</th>\n",
              "      <td>2022-04-03 00:00:00</td>\n",
              "      <td>45825.36</td>\n",
              "      <td>0.013097</td>\n",
              "      <td>46431.862</td>\n",
              "      <td>45357.724167</td>\n",
              "      <td>0.013097</td>\n",
              "    </tr>\n",
              "    <tr>\n",
              "      <th>360</th>\n",
              "      <td>2022-04-04 00:00:00</td>\n",
              "      <td>46425.52</td>\n",
              "      <td>0.004001</td>\n",
              "      <td>46227.364</td>\n",
              "      <td>45695.461667</td>\n",
              "      <td>0.004001</td>\n",
              "    </tr>\n",
              "    <tr>\n",
              "      <th>361</th>\n",
              "      <td>2022-04-05 00:00:00</td>\n",
              "      <td>46611.26</td>\n",
              "      <td>-0.023666</td>\n",
              "      <td>46136.784</td>\n",
              "      <td>46004.311667</td>\n",
              "      <td>-0.023666</td>\n",
              "    </tr>\n",
              "    <tr>\n",
              "      <th>362</th>\n",
              "      <td>2022-04-06 00:00:00</td>\n",
              "      <td>45508.16</td>\n",
              "      <td>-0.050935</td>\n",
              "      <td>46130.572</td>\n",
              "      <td>46129.619167</td>\n",
              "      <td>-0.050935</td>\n",
              "    </tr>\n",
              "    <tr>\n",
              "      <th>363</th>\n",
              "      <td>2022-04-07 00:00:00</td>\n",
              "      <td>43190.18</td>\n",
              "      <td>0.006347</td>\n",
              "      <td>45512.096</td>\n",
              "      <td>46034.273333</td>\n",
              "      <td>-0.006347</td>\n",
              "    </tr>\n",
              "  </tbody>\n",
              "</table>\n",
              "<p>353 rows × 6 columns</p>\n",
              "</div>\n",
              "      <button class=\"colab-df-convert\" onclick=\"convertToInteractive('df-6620d04e-c991-4109-8fea-fb7423cb98e2')\"\n",
              "              title=\"Convert this dataframe to an interactive table.\"\n",
              "              style=\"display:none;\">\n",
              "        \n",
              "  <svg xmlns=\"http://www.w3.org/2000/svg\" height=\"24px\"viewBox=\"0 0 24 24\"\n",
              "       width=\"24px\">\n",
              "    <path d=\"M0 0h24v24H0V0z\" fill=\"none\"/>\n",
              "    <path d=\"M18.56 5.44l.94 2.06.94-2.06 2.06-.94-2.06-.94-.94-2.06-.94 2.06-2.06.94zm-11 1L8.5 8.5l.94-2.06 2.06-.94-2.06-.94L8.5 2.5l-.94 2.06-2.06.94zm10 10l.94 2.06.94-2.06 2.06-.94-2.06-.94-.94-2.06-.94 2.06-2.06.94z\"/><path d=\"M17.41 7.96l-1.37-1.37c-.4-.4-.92-.59-1.43-.59-.52 0-1.04.2-1.43.59L10.3 9.45l-7.72 7.72c-.78.78-.78 2.05 0 2.83L4 21.41c.39.39.9.59 1.41.59.51 0 1.02-.2 1.41-.59l7.78-7.78 2.81-2.81c.8-.78.8-2.07 0-2.86zM5.41 20L4 18.59l7.72-7.72 1.47 1.35L5.41 20z\"/>\n",
              "  </svg>\n",
              "      </button>\n",
              "      \n",
              "  <style>\n",
              "    .colab-df-container {\n",
              "      display:flex;\n",
              "      flex-wrap:wrap;\n",
              "      gap: 12px;\n",
              "    }\n",
              "\n",
              "    .colab-df-convert {\n",
              "      background-color: #E8F0FE;\n",
              "      border: none;\n",
              "      border-radius: 50%;\n",
              "      cursor: pointer;\n",
              "      display: none;\n",
              "      fill: #1967D2;\n",
              "      height: 32px;\n",
              "      padding: 0 0 0 0;\n",
              "      width: 32px;\n",
              "    }\n",
              "\n",
              "    .colab-df-convert:hover {\n",
              "      background-color: #E2EBFA;\n",
              "      box-shadow: 0px 1px 2px rgba(60, 64, 67, 0.3), 0px 1px 3px 1px rgba(60, 64, 67, 0.15);\n",
              "      fill: #174EA6;\n",
              "    }\n",
              "\n",
              "    [theme=dark] .colab-df-convert {\n",
              "      background-color: #3B4455;\n",
              "      fill: #D2E3FC;\n",
              "    }\n",
              "\n",
              "    [theme=dark] .colab-df-convert:hover {\n",
              "      background-color: #434B5C;\n",
              "      box-shadow: 0px 1px 3px 1px rgba(0, 0, 0, 0.15);\n",
              "      filter: drop-shadow(0px 1px 2px rgba(0, 0, 0, 0.3));\n",
              "      fill: #FFFFFF;\n",
              "    }\n",
              "  </style>\n",
              "\n",
              "      <script>\n",
              "        const buttonEl =\n",
              "          document.querySelector('#df-6620d04e-c991-4109-8fea-fb7423cb98e2 button.colab-df-convert');\n",
              "        buttonEl.style.display =\n",
              "          google.colab.kernel.accessAllowed ? 'block' : 'none';\n",
              "\n",
              "        async function convertToInteractive(key) {\n",
              "          const element = document.querySelector('#df-6620d04e-c991-4109-8fea-fb7423cb98e2');\n",
              "          const dataTable =\n",
              "            await google.colab.kernel.invokeFunction('convertToInteractive',\n",
              "                                                     [key], {});\n",
              "          if (!dataTable) return;\n",
              "\n",
              "          const docLinkHtml = 'Like what you see? Visit the ' +\n",
              "            '<a target=\"_blank\" href=https://colab.research.google.com/notebooks/data_table.ipynb>data table notebook</a>'\n",
              "            + ' to learn more about interactive tables.';\n",
              "          element.innerHTML = '';\n",
              "          dataTable['output_type'] = 'display_data';\n",
              "          await google.colab.output.renderOutput(dataTable, element);\n",
              "          const docLink = document.createElement('div');\n",
              "          docLink.innerHTML = docLinkHtml;\n",
              "          element.appendChild(docLink);\n",
              "        }\n",
              "      </script>\n",
              "    </div>\n",
              "  </div>\n",
              "  "
            ]
          },
          "metadata": {},
          "execution_count": 14
        }
      ],
      "source": [
        "data"
      ]
    },
    {
      "cell_type": "code",
      "execution_count": 15,
      "id": "076c89db",
      "metadata": {
        "colab": {
          "base_uri": "https://localhost:8080/",
          "height": 265
        },
        "id": "076c89db",
        "outputId": "75faea54-ed55-47fc-8c86-b18667b4fe26"
      },
      "outputs": [
        {
          "output_type": "display_data",
          "data": {
            "text/plain": [
              "<Figure size 432x288 with 1 Axes>"
            ],
            "image/png": "[encoded data removed]"
          },
          "metadata": {
            "needs_background": "light"
          }
        }
      ],
      "source": [
        "plt.plot(torch.cumprod(1 + strat, dim=0))\n",
        "plt.plot(torch.cumprod(1 + r, dim=0))\n",
        "plt.show()"
      ]
    },
    {
      "cell_type": "code",
      "execution_count": 16,
      "id": "d74f4676",
      "metadata": {
        "colab": {
          "base_uri": "https://localhost:8080/",
          "height": 300
        },
        "id": "d74f4676",
        "outputId": "5d634e90-ea5b-403c-ac2e-14e581230664"
      },
      "outputs": [
        {
          "output_type": "stream",
          "name": "stdout",
          "text": [
            "Годовая доходность стратегии скользящих средних -31.74%\n",
            "Годовая доходность стратегии buy and hold -16.47%\n"
          ]
        },
        {
          "output_type": "display_data",
          "data": {
            "text/plain": [
              "<Figure size 432x288 with 1 Axes>"
            ],
            "image/png": "[encoded data removed]"
          },
          "metadata": {
            "needs_background": "light"
          }
        }
      ],
      "source": [
        "#визуализируем результаты\n",
        "plt.plot(np.cumprod(1+data['strategy']))\n",
        "plt.plot(np.cumprod(1+data['r']))\n",
        "r_strat = np.prod(1+data['strategy'])**(256/len(data['strategy'])) - 1\n",
        "r_bnh = np.prod(1+data['r'])**(256/len(data['r'])) - 1\n",
        "print('Годовая доходность стратегии скользящих средних '+str(round(r_strat*100,2))+'%')\n",
        "print('Годовая доходность стратегии buy and hold '+str(round(r_bnh*100,2))+'%')"
      ]
    },
    {
      "cell_type": "code",
      "execution_count": 17,
      "id": "7b1d1791",
      "metadata": {
        "id": "7b1d1791"
      },
      "outputs": [],
      "source": [
        "#функции для подсчета доходностей\n",
        "def profitability_bnh(prices: torch.Tensor):\n",
        "    \"\"\"\n",
        "      Доходность стратегии Buy and hold за весь период\n",
        "    \"\"\"\n",
        "    r = prices[1:]/prices[:-1] - 1\n",
        "    return torch.prod(1 + r, dim=0) - 1\n",
        "\n",
        "def profability_mooving_average(prices: torch.Tensor, short: int, long: int):\n",
        "    \"\"\"\n",
        "      Доходность скользящих средних за весь период\n",
        "    \"\"\"\n",
        "    r = prices[1:]/prices[:-1] - 1\n",
        "    short_moving = moving_average(prices, short)[long-short:-1]\n",
        "    long_moving = moving_average(prices, long)[:-1]\n",
        "    r = r[long-1:]\n",
        "    strat = r * (short_moving > long_moving) - r * (short_moving < long_moving)\n",
        "    return torch.prod(1 + strat, dim=0) - 1"
      ]
    },
    {
      "cell_type": "code",
      "execution_count": 18,
      "id": "kP8gLQKkkU3I",
      "metadata": {
        "colab": {
          "base_uri": "https://localhost:8080/"
        },
        "id": "kP8gLQKkkU3I",
        "outputId": "9c64d34e-eb6d-46f8-d45d-98de2787aed9"
      },
      "outputs": [
        {
          "output_type": "execute_result",
          "data": {
            "text/plain": [
              "(tensor(-0.2512), tensor(-0.1492))"
            ]
          },
          "metadata": {},
          "execution_count": 18
        }
      ],
      "source": [
        "profitability_bnh(prices), profability_mooving_average(prices, 3, 20)"
      ]
    },
    {
      "cell_type": "code",
      "execution_count": 33,
      "id": "lBY1AqpTkwAJ",
      "metadata": {
        "id": "lBY1AqpTkwAJ"
      },
      "outputs": [],
      "source": [
        "def sgd_step(x_0:int, y_0:int):\n",
        "    a = profability_mooving_average(prices, x_0,y_0)\n",
        "    b = profability_mooving_average(prices, x_0 + 1,y_0)\n",
        "    c = profability_mooving_average(prices, x_0 - 1,y_0)\n",
        "    d = profability_mooving_average(prices, x_0,y_0 + 1)\n",
        "    e = profability_mooving_average(prices, x_0,y_0 - 1)\n",
        "    if a == max(a,b,c,d,e):\n",
        "        return x_0,y_0\n",
        "    elif b == max(a,b,c,d,e):\n",
        "        return (x_0 + 1,y_0)\n",
        "    elif c == max(a,b,c,d,e):\n",
        "        return (x_0 - 1,y_0)\n",
        "    elif d == max(a,b,c,d,e):\n",
        "        return (x_0, y_0 + 1)\n",
        "    else:\n",
        "        return (x_0, y_0 - 1)\n",
        "\n",
        "def sgd(x_0:int, y_0:int):\n",
        "    (x,y) = sgd_step(x_0,y_0)\n",
        "    while (x, y) != (x_0, y_0):\n",
        "        x_0, y_0 = x, y\n",
        "        (x, y) = sgd_step(x_0, y_0)\n",
        "    return x_0, y_0\n",
        "    \n",
        "    "
      ]
    },
    {
      "cell_type": "code",
      "execution_count": 37,
      "id": "82037de2",
      "metadata": {
        "colab": {
          "base_uri": "https://localhost:8080/"
        },
        "id": "82037de2",
        "outputId": "ad4b43cb-9fc4-4cde-b248-0c6c85c9ec12"
      },
      "outputs": [
        {
          "output_type": "stream",
          "name": "stdout",
          "text": [
            "4 21\n",
            "tensor(0.0470)\n"
          ]
        }
      ],
      "source": [
        "x, y = sgd(3,22)\n",
        "print(x, y)\n",
        "print(profability_mooving_average(prices, x, y))"
      ]
    },
    {
      "cell_type": "code",
      "source": [
        "import random"
      ],
      "metadata": {
        "id": "rABL7KYlGtlq"
      },
      "id": "rABL7KYlGtlq",
      "execution_count": 40,
      "outputs": []
    },
    {
      "cell_type": "code",
      "execution_count": 96,
      "id": "e11f64d0",
      "metadata": {
        "id": "e11f64d0"
      },
      "outputs": [],
      "source": [
        "def monte(n:int):\n",
        "  l=[]\n",
        "  x=np.zeros(n, dtype=int)\n",
        "  y=np.zeros(n, dtype=int)\n",
        "  x_0=np.zeros(n, dtype=int)\n",
        "  y_0=np.zeros(n, dtype=int)\n",
        "  for i in range(n):\n",
        "    x[i] = random.randint(2,20)\n",
        "    y[i] = random.randint(x[i] + 1,50)\n",
        "    #print(x[i], y[i])\n",
        "    x_0[i],y_0[i] = sgd(x[i],y[i])\n",
        "    #print(int(x_0[i]), int(y_0[i]))\n",
        "    l.append(float(profability_mooving_average(prices, int(x_0[i]), int(y_0[i]))))\n",
        "  maximize = max(l)\n",
        "  idx = l.index(maximize)\n",
        "\n",
        "  #print(l)\n",
        "  return maximize, x_0[idx], y_0[idx]\n",
        "\n"
      ]
    },
    {
      "cell_type": "code",
      "source": [
        "print(monte(20))"
      ],
      "metadata": {
        "colab": {
          "base_uri": "https://localhost:8080/"
        },
        "id": "eKO5v2g6G6tB",
        "outputId": "decc3191-57f3-4406-9b8c-41945573d936"
      },
      "id": "eKO5v2g6G6tB",
      "execution_count": 106,
      "outputs": [
        {
          "output_type": "stream",
          "name": "stdout",
          "text": [
            "(0.8335689306259155, 3, 37)\n"
          ]
        }
      ]
    },
    {
      "cell_type": "code",
      "source": [
        ""
      ],
      "metadata": {
        "id": "a5C8hKRXKzXy"
      },
      "id": "a5C8hKRXKzXy",
      "execution_count": null,
      "outputs": []
    }
  ],
  "metadata": {
    "colab": {
      "collapsed_sections": [],
      "name": "first_steps.ipynb",
      "provenance": []
    },
    "kernelspec": {
      "display_name": "Python 3 (ipykernel)",
      "language": "python",
      "name": "python3"
    },
    "language_info": {
      "codemirror_mode": {
        "name": "ipython",
        "version": 3
      },
      "file_extension": ".py",
      "mimetype": "text/x-python",
      "name": "python",
      "nbconvert_exporter": "python",
      "pygments_lexer": "ipython3",
      "version": "3.10.0"
    }
  },
  "nbformat": 4,
  "nbformat_minor": 5
}